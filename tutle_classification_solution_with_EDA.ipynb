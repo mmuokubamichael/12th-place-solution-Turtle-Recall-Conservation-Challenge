{
  "cells": [
    {
      "cell_type": "markdown",
      "metadata": {
        "id": "view-in-github",
        "colab_type": "text"
      },
      "source": [
        "<a href=\"https://colab.research.google.com/github/mmuokubamichael/12th-place-solution-Turtle-Recall-Conservation-Challenge/blob/main/tutle_classification_solution_with_EDA.ipynb\" target=\"_parent\"><img src=\"https://colab.research.google.com/assets/colab-badge.svg\" alt=\"Open In Colab\"/></a>"
      ]
    },
    {
      "cell_type": "code",
      "execution_count": null,
      "metadata": {
        "id": "pHA75UZ5dtYt"
      },
      "outputs": [],
      "source": [
        "import os\n",
        "\n",
        "SOURCE_URL = 'https://storage.googleapis.com/dm-turtle-recall/images.tar'\n",
        "IMAGE_DIR = './turtle_recall/images'\n",
        "TAR_PATH = os.path.join(IMAGE_DIR, os.path.basename(SOURCE_URL))\n",
        "EXPECTED_IMAGE_COUNT = 13891\n",
        "\n",
        "%sx mkdir --parents \"{IMAGE_DIR}\"\n",
        "if len(os.listdir(IMAGE_DIR)) != EXPECTED_IMAGE_COUNT:\n",
        "  %sx wget --no-check-certificate -O \"{TAR_PATH}\" \"{SOURCE_URL}\"\n",
        "  %sx tar --extract --file=\"{TAR_PATH}\" --directory=\"{IMAGE_DIR}\"\n",
        "  %sx rm \"{TAR_PATH}\"\n",
        "\n",
        "print(f'The total number of images is: {len(os.listdir(IMAGE_DIR))}')"
      ]
    },
    {
      "cell_type": "code",
      "execution_count": null,
      "metadata": {
        "id": "s7REJYg3e3qj"
      },
      "outputs": [],
      "source": [
        "import pandas as pd \n",
        "import requests\n",
        "import io\n",
        "import urllib.parse\n",
        "\n",
        "BASE_URL = 'https://storage.googleapis.com/dm-turtle-recall/'\n",
        "\n",
        "def read_csv_from_web(file_name):\n",
        "  url = urllib.parse.urljoin(BASE_URL, file_name)  \n",
        "  content = requests.get(url).content\n",
        "  return pd.read_csv(io.StringIO(content.decode('utf-8')))\n",
        "\n",
        "# Read in csv files.\n",
        "train = read_csv_from_web('train.csv')\n",
        "test = read_csv_from_web('test.csv')\n",
        "sample_submission = read_csv_from_web('sample_submission.csv')\n",
        "\n",
        "# Convert image_location strings to lowercase.\n",
        "for df in [train, test]:\n",
        "  df.image_location = df.image_location.apply(lambda x: x.lower())\n",
        "  assert set(df.image_location.unique()) == set(['left', 'right', 'top'])"
      ]
    },
    {
      "cell_type": "code",
      "execution_count": null,
      "metadata": {
        "id": "v-NpvWn11v3f"
      },
      "outputs": [],
      "source": [
        "train.shape"
      ]
    },
    {
      "cell_type": "code",
      "execution_count": null,
      "metadata": {
        "id": "YsDFFOP9lt7X"
      },
      "outputs": [],
      "source": [
        "import numpy as np\n"
      ]
    },
    {
      "cell_type": "code",
      "execution_count": null,
      "metadata": {
        "id": "Exar81pCe3tj"
      },
      "outputs": [],
      "source": [
        "turtle_ids = sorted(np.unique(train.turtle_id)) + ['new_turtle']\n",
        "labels = dict(zip(turtle_ids, np.arange(len(turtle_ids))))\n",
        "label_lookup = {v: k for k, v in labels.items()}\n",
        "num_classes = len(labels)\n",
        "image_to_turtle = dict(zip(train.image_id, train.turtle_id))\n",
        "\n",
        "image_files = [os.path.join(IMAGE_DIR, f) for f in os.listdir(IMAGE_DIR) \n",
        "              if f.split('.')[0] in train.image_id.values]\n",
        "\n",
        "image_ids = [os.path.basename(f).split('.')[0] for f in image_files]\n",
        "image_turtle_ids = [image_to_turtle[id] for id in image_ids]"
      ]
    },
    {
      "cell_type": "code",
      "execution_count": null,
      "metadata": {
        "id": "BQ1h48_q90HY"
      },
      "outputs": [],
      "source": [
        "y_target= pd.DataFrame(image_turtle_ids,columns=[\"target\"])"
      ]
    },
    {
      "cell_type": "code",
      "execution_count": null,
      "metadata": {
        "id": "oGIasRYt90Kl"
      },
      "outputs": [],
      "source": [
        "from sklearn.preprocessing import OneHotEncoder,LabelEncoder\n",
        "target_encode=LabelEncoder()\n",
        "y_target['target']=target_encode.fit_transform(y_target['target'])"
      ]
    },
    {
      "cell_type": "code",
      "execution_count": null,
      "metadata": {
        "id": "8hHdLZEeD42F"
      },
      "outputs": [],
      "source": [
        "target_onehot=OneHotEncoder()\n",
        "main_target=target_onehot.fit_transform(y_target[['target']]).toarray()"
      ]
    },
    {
      "cell_type": "code",
      "execution_count": null,
      "metadata": {
        "id": "Npz9pHghDyG8"
      },
      "outputs": [],
      "source": [
        "main_target"
      ]
    },
    {
      "cell_type": "code",
      "execution_count": null,
      "metadata": {
        "id": "pttC_b4ZDyKL"
      },
      "outputs": [],
      "source": []
    },
    {
      "cell_type": "code",
      "execution_count": null,
      "metadata": {
        "id": "_67VXIwey-tS"
      },
      "outputs": [],
      "source": [
        "import functools\n",
        "from PIL import Image  # Image utilities.\n",
        "import tqdm"
      ]
    },
    {
      "cell_type": "code",
      "execution_count": null,
      "metadata": {
        "id": "Amai96lMe3zM"
      },
      "outputs": [],
      "source": [
        "def crop_and_resize(pil_img):\n",
        "  \"\"\"Crops square from center of image and resizes to (224, 224).\"\"\"\n",
        "  w, h = pil_img.size\n",
        "  crop_size = min(w, h)\n",
        "  crop = pil_img.crop(\n",
        "      ((w - crop_size) // 2,\n",
        "       (h - crop_size) // 2,\n",
        "       (w + crop_size) // 2,\n",
        "       (h + crop_size) // 2))\n",
        "  return crop.resize((224, 224))\n",
        "\n",
        "\n",
        "tqdm.tqdm._instances.clear()\n",
        "loaded_images = [crop_and_resize(Image.open(f)) for f in tqdm.tqdm(image_files)]"
      ]
    },
    {
      "cell_type": "code",
      "execution_count": null,
      "metadata": {
        "id": "TTJAalP1H7sD"
      },
      "outputs": [],
      "source": [
        "train=[]\n",
        "for x in loaded_images:\n",
        "  train.append(np.array(x))\n"
      ]
    },
    {
      "cell_type": "code",
      "execution_count": null,
      "metadata": {
        "id": "A2EeRHVaEmpB"
      },
      "outputs": [],
      "source": [
        "x_train=np.array(train)\n",
        "y_train=np.array(main_target)"
      ]
    },
    {
      "cell_type": "code",
      "execution_count": null,
      "metadata": {
        "id": "HpWJmlJG1EAg"
      },
      "outputs": [],
      "source": [
        "x_train.shape,y_train.shape\n"
      ]
    },
    {
      "cell_type": "code",
      "execution_count": null,
      "metadata": {
        "id": "RJEkQYRx1EKn"
      },
      "outputs": [],
      "source": [
        "from keras.applications.vgg16 import VGG16\n",
        "from keras.applications.inception_v3 import InceptionV3\n",
        "from keras.applications.xception import Xception\n",
        "from keras.applications.resnet_v2 import ResNet101V2\n",
        "from keras.applications.resnet_v2 import ResNet152V2\n",
        "from keras.applications.resnet import ResNet50\n",
        "from keras.applications.inception_resnet_v2 import InceptionResNetV2\n",
        "from keras.models import Model\n",
        "from keras.layers import Dense\n",
        "from keras.layers import Flatten\n",
        "from keras import Sequential\n",
        "from keras.layers import Dense, LSTM\n",
        "from keras.layers import TimeDistributed"
      ]
    },
    {
      "cell_type": "code",
      "execution_count": null,
      "metadata": {
        "id": "VnT6YmUY1EOS"
      },
      "outputs": [],
      "source": [
        "def estimator(model):\n",
        "  for layer in model.layers:\n",
        "    layer.trainable = False\n",
        "  # add new classifier layers\n",
        "  flat1 = Flatten()(model.layers[-1].output)\n",
        "  class1 = Dense(1024, activation='relu')(flat1)\n",
        "  output = Dense(100, activation='softmax')(class1)\n",
        "  # define new model\n",
        "  model = Model(inputs=model.inputs, outputs=output)\n",
        "  model.compile(optimizer=\"adam\",loss=\"categorical_crossentropy\",metrics=[\n",
        "          'categorical_accuracy'\n",
        "      ])\n",
        "  return model"
      ]
    },
    {
      "cell_type": "code",
      "execution_count": null,
      "metadata": {
        "id": "uYxyRS2_uNUS"
      },
      "outputs": [],
      "source": [
        "resnet=ResNet50(include_top=False, input_shape=(224, 224, 3))\n",
        "nasnet=InceptionResNetV2(include_top=False, input_shape=(224, 224, 3))\n",
        "vg16 = VGG16(include_top=False, input_shape=(224, 224, 3))\n",
        "inception=InceptionV3(include_top=False, input_shape=(224, 224, 3))\n",
        "xception=Xception(include_top=False, input_shape=(224, 224, 3))\n",
        "resnet101v2=ResNet101V2(include_top=False, input_shape=(224, 224, 3))\n",
        "resnet152v2=ResNet152V2(include_top=False, input_shape=(224, 224, 3))\n",
        "\n",
        "\n",
        "vg16=estimator(vg16)\n",
        "inception=estimator(inception)\n",
        "xception=estimator(xception)\n",
        "resnet101v2=estimator(resnet101v2)\n",
        "resnet152v2=estimator(resnet152v2)\n",
        "resnet=estimator(resnet)\n",
        "nasnet=estimator(nasnet)"
      ]
    },
    {
      "cell_type": "code",
      "execution_count": null,
      "metadata": {
        "colab": {
          "background_save": true,
          "base_uri": "https://localhost:8080/"
        },
        "id": "Bcv1IgvHXjCg",
        "outputId": "5ea6c0d4-6a10-4c8d-f809-c349872cd662"
      },
      "outputs": [
        {
          "name": "stdout",
          "output_type": "stream",
          "text": [
            "Epoch 1/30\n",
            "68/68 [==============================] - 52s 421ms/step - loss: 7638.5840 - categorical_accuracy: 0.0117\n",
            "Epoch 2/30\n",
            "68/68 [==============================] - 28s 411ms/step - loss: 16.2496 - categorical_accuracy: 0.0131\n",
            "Epoch 3/30\n",
            "68/68 [==============================] - 28s 409ms/step - loss: 4.5990 - categorical_accuracy: 0.0135\n",
            "Epoch 4/30\n",
            "68/68 [==============================] - 28s 409ms/step - loss: 4.5937 - categorical_accuracy: 0.0317\n",
            "Epoch 5/30\n",
            "68/68 [==============================] - 28s 408ms/step - loss: 4.5880 - categorical_accuracy: 0.0359\n",
            "Epoch 6/30\n",
            "68/68 [==============================] - 28s 409ms/step - loss: 4.5823 - categorical_accuracy: 0.0359\n",
            "Epoch 7/30\n",
            "68/68 [==============================] - 28s 409ms/step - loss: 4.5765 - categorical_accuracy: 0.0359\n",
            "Epoch 8/30\n",
            "68/68 [==============================] - 28s 409ms/step - loss: 4.5706 - categorical_accuracy: 0.0359\n",
            "Epoch 9/30\n",
            "68/68 [==============================] - 28s 408ms/step - loss: 4.5649 - categorical_accuracy: 0.0359\n",
            "Epoch 10/30\n",
            "68/68 [==============================] - 28s 409ms/step - loss: 4.5592 - categorical_accuracy: 0.0359\n",
            "Epoch 11/30\n",
            "68/68 [==============================] - 28s 408ms/step - loss: 4.5536 - categorical_accuracy: 0.0359\n",
            "Epoch 12/30\n",
            "68/68 [==============================] - 28s 409ms/step - loss: 4.5481 - categorical_accuracy: 0.0359\n",
            "Epoch 13/30\n",
            "68/68 [==============================] - 28s 408ms/step - loss: 4.5426 - categorical_accuracy: 0.0359\n",
            "Epoch 14/30\n",
            "68/68 [==============================] - 28s 409ms/step - loss: 4.5374 - categorical_accuracy: 0.0359\n",
            "Epoch 15/30\n",
            "68/68 [==============================] - 28s 407ms/step - loss: 4.5322 - categorical_accuracy: 0.0359\n",
            "Epoch 16/30\n",
            "68/68 [==============================] - 28s 408ms/step - loss: 4.5273 - categorical_accuracy: 0.0359\n",
            "Epoch 17/30\n",
            "68/68 [==============================] - 28s 409ms/step - loss: 4.5224 - categorical_accuracy: 0.0359\n",
            "Epoch 18/30\n",
            "68/68 [==============================] - 28s 409ms/step - loss: 4.5177 - categorical_accuracy: 0.0359\n",
            "Epoch 19/30\n",
            "68/68 [==============================] - 28s 409ms/step - loss: 4.5132 - categorical_accuracy: 0.0359\n",
            "Epoch 20/30\n",
            "68/68 [==============================] - 28s 409ms/step - loss: 4.5089 - categorical_accuracy: 0.0359\n",
            "Epoch 21/30\n",
            "68/68 [==============================] - 28s 410ms/step - loss: 4.5048 - categorical_accuracy: 0.0359\n",
            "Epoch 22/30\n",
            "68/68 [==============================] - 28s 409ms/step - loss: 4.5008 - categorical_accuracy: 0.0359\n",
            "Epoch 23/30\n",
            "68/68 [==============================] - 28s 409ms/step - loss: 4.4970 - categorical_accuracy: 0.0359\n",
            "Epoch 24/30\n",
            "68/68 [==============================] - 28s 408ms/step - loss: 4.4934 - categorical_accuracy: 0.0359\n",
            "Epoch 25/30\n",
            "68/68 [==============================] - 28s 409ms/step - loss: 4.4899 - categorical_accuracy: 0.0359\n",
            "Epoch 26/30\n",
            "68/68 [==============================] - 28s 409ms/step - loss: 4.4867 - categorical_accuracy: 0.0359\n",
            "Epoch 27/30\n",
            "68/68 [==============================] - 28s 409ms/step - loss: 4.4837 - categorical_accuracy: 0.0359\n",
            "Epoch 28/30\n",
            "68/68 [==============================] - 28s 409ms/step - loss: 4.4809 - categorical_accuracy: 0.0359\n",
            "Epoch 29/30\n",
            "68/68 [==============================] - 28s 408ms/step - loss: 4.4781 - categorical_accuracy: 0.0359\n",
            "Epoch 30/30\n",
            "68/68 [==============================] - 28s 409ms/step - loss: 4.4754 - categorical_accuracy: 0.0359\n"
          ]
        },
        {
          "data": {
            "text/plain": [
              "<keras.callbacks.History at 0x7f0810f9b790>"
            ]
          },
          "execution_count": null,
          "metadata": {},
          "output_type": "execute_result"
        }
      ],
      "source": [
        "nasnet.fit(x_train,y_train,epochs=30)"
      ]
    },
    {
      "cell_type": "code",
      "execution_count": null,
      "metadata": {
        "colab": {
          "background_save": true
        },
        "id": "E1IlCLEPXh0R",
        "outputId": "04eae00e-4d22-458f-ff3d-866d23f2c7ff"
      },
      "outputs": [
        {
          "name": "stdout",
          "output_type": "stream",
          "text": [
            "Epoch 1/30\n",
            "68/68 [==============================] - 48s 535ms/step - loss: 15332.4570 - categorical_accuracy: 0.0135\n",
            "Epoch 2/30\n",
            "68/68 [==============================] - 36s 529ms/step - loss: 6.2713 - categorical_accuracy: 0.0089\n",
            "Epoch 3/30\n",
            "68/68 [==============================] - 36s 527ms/step - loss: 4.5955 - categorical_accuracy: 0.0205\n",
            "Epoch 4/30\n",
            "68/68 [==============================] - 36s 529ms/step - loss: 4.5900 - categorical_accuracy: 0.0364\n",
            "Epoch 5/30\n",
            "68/68 [==============================] - 36s 529ms/step - loss: 4.5839 - categorical_accuracy: 0.0364\n",
            "Epoch 6/30\n",
            "68/68 [==============================] - 36s 529ms/step - loss: 4.5776 - categorical_accuracy: 0.0364\n",
            "Epoch 7/30\n",
            "68/68 [==============================] - 36s 527ms/step - loss: 4.5712 - categorical_accuracy: 0.0364\n",
            "Epoch 8/30\n",
            "68/68 [==============================] - 36s 529ms/step - loss: 4.5647 - categorical_accuracy: 0.0364\n",
            "Epoch 9/30\n",
            "68/68 [==============================] - 36s 529ms/step - loss: 4.5616 - categorical_accuracy: 0.0368\n",
            "Epoch 10/30\n",
            "68/68 [==============================] - 36s 529ms/step - loss: 4.5556 - categorical_accuracy: 0.0364\n",
            "Epoch 11/30\n",
            "68/68 [==============================] - 36s 527ms/step - loss: 4.5494 - categorical_accuracy: 0.0364\n",
            "Epoch 12/30\n",
            "68/68 [==============================] - 36s 529ms/step - loss: 4.5439 - categorical_accuracy: 0.0364\n",
            "Epoch 13/30\n",
            "68/68 [==============================] - 36s 528ms/step - loss: 4.5384 - categorical_accuracy: 0.0364\n",
            "Epoch 14/30\n",
            "68/68 [==============================] - 36s 529ms/step - loss: 4.5331 - categorical_accuracy: 0.0364\n",
            "Epoch 15/30\n",
            "68/68 [==============================] - 36s 527ms/step - loss: 4.5280 - categorical_accuracy: 0.0364\n",
            "Epoch 16/30\n",
            "68/68 [==============================] - 36s 529ms/step - loss: 4.5230 - categorical_accuracy: 0.0364\n",
            "Epoch 17/30\n",
            "68/68 [==============================] - 36s 528ms/step - loss: 4.5181 - categorical_accuracy: 0.0364\n",
            "Epoch 18/30\n",
            "68/68 [==============================] - 36s 529ms/step - loss: 4.5135 - categorical_accuracy: 0.0364\n",
            "Epoch 19/30\n",
            "68/68 [==============================] - 36s 527ms/step - loss: 4.5089 - categorical_accuracy: 0.0364\n",
            "Epoch 20/30\n",
            "68/68 [==============================] - 36s 528ms/step - loss: 4.5045 - categorical_accuracy: 0.0364\n",
            "Epoch 21/30\n",
            "68/68 [==============================] - 36s 528ms/step - loss: 4.5006 - categorical_accuracy: 0.0364\n",
            "Epoch 22/30\n",
            "68/68 [==============================] - 36s 528ms/step - loss: 4.4968 - categorical_accuracy: 0.0364\n",
            "Epoch 23/30\n",
            "68/68 [==============================] - 36s 526ms/step - loss: 4.4930 - categorical_accuracy: 0.0364\n",
            "Epoch 24/30\n",
            "68/68 [==============================] - 36s 527ms/step - loss: 4.4896 - categorical_accuracy: 0.0364\n",
            "Epoch 25/30\n",
            "68/68 [==============================] - 36s 528ms/step - loss: 4.4861 - categorical_accuracy: 0.0364\n",
            "Epoch 26/30\n",
            "68/68 [==============================] - 36s 528ms/step - loss: 4.4830 - categorical_accuracy: 0.0364\n",
            "Epoch 27/30\n",
            "68/68 [==============================] - 36s 526ms/step - loss: 4.4802 - categorical_accuracy: 0.0364\n",
            "Epoch 28/30\n",
            "68/68 [==============================] - 36s 528ms/step - loss: 4.4775 - categorical_accuracy: 0.0364\n",
            "Epoch 29/30\n",
            "68/68 [==============================] - 36s 528ms/step - loss: 4.4748 - categorical_accuracy: 0.0364\n",
            "Epoch 30/30\n",
            "68/68 [==============================] - 36s 528ms/step - loss: 4.4723 - categorical_accuracy: 0.0364\n"
          ]
        },
        {
          "data": {
            "text/plain": [
              "<keras.callbacks.History at 0x7f080c0f0710>"
            ]
          },
          "execution_count": null,
          "metadata": {},
          "output_type": "execute_result"
        }
      ],
      "source": [
        "resnet152v2.fit(x_train,y_train,epochs=30)"
      ]
    },
    {
      "cell_type": "code",
      "execution_count": null,
      "metadata": {
        "colab": {
          "background_save": true
        },
        "id": "PFP6YESkXgWN",
        "outputId": "7d6bb069-234c-407e-f706-986e6dd7e245"
      },
      "outputs": [
        {
          "name": "stdout",
          "output_type": "stream",
          "text": [
            "Epoch 1/30\n",
            "68/68 [==============================] - 33s 373ms/step - loss: 9959.6768 - categorical_accuracy: 0.0126\n",
            "Epoch 2/30\n",
            "68/68 [==============================] - 25s 374ms/step - loss: 11.6194 - categorical_accuracy: 0.0163\n",
            "Epoch 3/30\n",
            "68/68 [==============================] - 25s 373ms/step - loss: 4.6594 - categorical_accuracy: 0.0172\n",
            "Epoch 4/30\n",
            "68/68 [==============================] - 25s 373ms/step - loss: 4.6023 - categorical_accuracy: 0.0294\n",
            "Epoch 5/30\n",
            "68/68 [==============================] - 25s 373ms/step - loss: 4.5846 - categorical_accuracy: 0.0364\n",
            "Epoch 6/30\n",
            "68/68 [==============================] - 25s 374ms/step - loss: 4.5827 - categorical_accuracy: 0.0364\n",
            "Epoch 7/30\n",
            "68/68 [==============================] - 25s 373ms/step - loss: 4.5727 - categorical_accuracy: 0.0364\n",
            "Epoch 8/30\n",
            "68/68 [==============================] - 25s 374ms/step - loss: 4.5650 - categorical_accuracy: 0.0368\n",
            "Epoch 9/30\n",
            "68/68 [==============================] - 25s 373ms/step - loss: 4.5590 - categorical_accuracy: 0.0368\n",
            "Epoch 10/30\n",
            "68/68 [==============================] - 25s 374ms/step - loss: 4.5529 - categorical_accuracy: 0.0368\n",
            "Epoch 11/30\n",
            "68/68 [==============================] - 25s 373ms/step - loss: 4.5472 - categorical_accuracy: 0.0368\n",
            "Epoch 12/30\n",
            "68/68 [==============================] - 25s 374ms/step - loss: 4.5417 - categorical_accuracy: 0.0368\n",
            "Epoch 13/30\n",
            "68/68 [==============================] - 25s 373ms/step - loss: 4.5361 - categorical_accuracy: 0.0368\n",
            "Epoch 14/30\n",
            "68/68 [==============================] - 25s 374ms/step - loss: 4.5308 - categorical_accuracy: 0.0368\n",
            "Epoch 15/30\n",
            "68/68 [==============================] - 25s 373ms/step - loss: 4.5256 - categorical_accuracy: 0.0368\n",
            "Epoch 16/30\n",
            "68/68 [==============================] - 25s 374ms/step - loss: 4.5207 - categorical_accuracy: 0.0368\n",
            "Epoch 17/30\n",
            "68/68 [==============================] - 25s 372ms/step - loss: 4.5159 - categorical_accuracy: 0.0368\n",
            "Epoch 18/30\n",
            "68/68 [==============================] - 25s 373ms/step - loss: 4.5114 - categorical_accuracy: 0.0368\n",
            "Epoch 19/30\n",
            "68/68 [==============================] - 25s 373ms/step - loss: 4.5070 - categorical_accuracy: 0.0368\n",
            "Epoch 20/30\n",
            "68/68 [==============================] - 25s 374ms/step - loss: 4.5027 - categorical_accuracy: 0.0368\n",
            "Epoch 21/30\n",
            "68/68 [==============================] - 25s 372ms/step - loss: 4.4988 - categorical_accuracy: 0.0368\n",
            "Epoch 22/30\n",
            "68/68 [==============================] - 25s 372ms/step - loss: 4.4950 - categorical_accuracy: 0.0368\n",
            "Epoch 23/30\n",
            "68/68 [==============================] - 25s 372ms/step - loss: 4.4914 - categorical_accuracy: 0.0368\n",
            "Epoch 24/30\n",
            "68/68 [==============================] - 25s 373ms/step - loss: 4.4881 - categorical_accuracy: 0.0368\n",
            "Epoch 25/30\n",
            "68/68 [==============================] - 25s 372ms/step - loss: 4.4848 - categorical_accuracy: 0.0368\n",
            "Epoch 26/30\n",
            "68/68 [==============================] - 25s 373ms/step - loss: 4.4817 - categorical_accuracy: 0.0368\n",
            "Epoch 27/30\n",
            "68/68 [==============================] - 25s 372ms/step - loss: 4.4787 - categorical_accuracy: 0.0368\n",
            "Epoch 28/30\n",
            "68/68 [==============================] - 25s 373ms/step - loss: 4.4760 - categorical_accuracy: 0.0368\n",
            "Epoch 29/30\n",
            "68/68 [==============================] - 25s 373ms/step - loss: 4.4734 - categorical_accuracy: 0.0368\n",
            "Epoch 30/30\n",
            "68/68 [==============================] - 25s 374ms/step - loss: 4.4709 - categorical_accuracy: 0.0368\n"
          ]
        },
        {
          "data": {
            "text/plain": [
              "<keras.callbacks.History at 0x7f079e903ad0>"
            ]
          },
          "execution_count": null,
          "metadata": {},
          "output_type": "execute_result"
        }
      ],
      "source": [
        "resnet101v2.fit(x_train,y_train,epochs=30)"
      ]
    },
    {
      "cell_type": "code",
      "execution_count": null,
      "metadata": {
        "id": "pXCnP2qhXfNt",
        "colab": {
          "base_uri": "https://localhost:8080/"
        },
        "outputId": "eb8791cb-32b8-44f2-fe04-eb5e415fdb81"
      },
      "outputs": [
        {
          "output_type": "stream",
          "name": "stdout",
          "text": [
            "Epoch 1/30\n",
            "68/68 [==============================] - 29s 356ms/step - loss: 148.4766 - categorical_accuracy: 0.0191\n",
            "Epoch 2/30\n",
            "68/68 [==============================] - 24s 350ms/step - loss: 5.0676 - categorical_accuracy: 0.0434\n",
            "Epoch 3/30\n",
            "68/68 [==============================] - 24s 350ms/step - loss: 4.6108 - categorical_accuracy: 0.0494\n",
            "Epoch 4/30\n",
            "68/68 [==============================] - 24s 349ms/step - loss: 4.5056 - categorical_accuracy: 0.0559\n",
            "Epoch 5/30\n",
            "68/68 [==============================] - 24s 350ms/step - loss: 4.4352 - categorical_accuracy: 0.0620\n",
            "Epoch 6/30\n",
            "68/68 [==============================] - 24s 350ms/step - loss: 4.4223 - categorical_accuracy: 0.0611\n",
            "Epoch 7/30\n",
            "68/68 [==============================] - 24s 350ms/step - loss: 4.4547 - categorical_accuracy: 0.0676\n",
            "Epoch 8/30\n",
            "68/68 [==============================] - 24s 350ms/step - loss: 4.3249 - categorical_accuracy: 0.0695\n",
            "Epoch 9/30\n",
            "68/68 [==============================] - 24s 350ms/step - loss: 4.3289 - categorical_accuracy: 0.0788\n",
            "Epoch 10/30\n",
            "68/68 [==============================] - 24s 350ms/step - loss: 4.2313 - categorical_accuracy: 0.0830\n",
            "Epoch 11/30\n",
            "68/68 [==============================] - 24s 350ms/step - loss: 4.1908 - categorical_accuracy: 0.0918\n",
            "Epoch 12/30\n",
            "68/68 [==============================] - 24s 349ms/step - loss: 4.1426 - categorical_accuracy: 0.0942\n",
            "Epoch 13/30\n",
            "68/68 [==============================] - 24s 350ms/step - loss: 4.1210 - categorical_accuracy: 0.0937\n",
            "Epoch 14/30\n",
            "68/68 [==============================] - 24s 350ms/step - loss: 4.1730 - categorical_accuracy: 0.0979\n",
            "Epoch 15/30\n",
            "68/68 [==============================] - 24s 349ms/step - loss: 4.0726 - categorical_accuracy: 0.1040\n",
            "Epoch 16/30\n",
            "68/68 [==============================] - 24s 350ms/step - loss: 4.0192 - categorical_accuracy: 0.1133\n",
            "Epoch 17/30\n",
            "68/68 [==============================] - 24s 349ms/step - loss: 3.9908 - categorical_accuracy: 0.1156\n",
            "Epoch 18/30\n",
            "68/68 [==============================] - 24s 349ms/step - loss: 3.9797 - categorical_accuracy: 0.1161\n",
            "Epoch 19/30\n",
            "68/68 [==============================] - 24s 350ms/step - loss: 3.9004 - categorical_accuracy: 0.1319\n",
            "Epoch 20/30\n",
            "68/68 [==============================] - 24s 349ms/step - loss: 3.9169 - categorical_accuracy: 0.1268\n",
            "Epoch 21/30\n",
            "68/68 [==============================] - 24s 350ms/step - loss: 3.8722 - categorical_accuracy: 0.1305\n",
            "Epoch 22/30\n",
            "68/68 [==============================] - 24s 350ms/step - loss: 3.8962 - categorical_accuracy: 0.1315\n",
            "Epoch 23/30\n",
            "68/68 [==============================] - 24s 350ms/step - loss: 3.8610 - categorical_accuracy: 0.1366\n",
            "Epoch 24/30\n",
            "68/68 [==============================] - 24s 350ms/step - loss: 3.8014 - categorical_accuracy: 0.1455\n",
            "Epoch 25/30\n",
            "68/68 [==============================] - 24s 349ms/step - loss: 3.7974 - categorical_accuracy: 0.1455\n",
            "Epoch 26/30\n",
            "68/68 [==============================] - 24s 349ms/step - loss: 3.7694 - categorical_accuracy: 0.1483\n",
            "Epoch 27/30\n",
            "68/68 [==============================] - 24s 350ms/step - loss: 3.7953 - categorical_accuracy: 0.1524\n",
            "Epoch 28/30\n",
            "68/68 [==============================] - 24s 350ms/step - loss: 3.8520 - categorical_accuracy: 0.1613\n",
            "Epoch 29/30\n",
            "68/68 [==============================] - 24s 350ms/step - loss: 3.7438 - categorical_accuracy: 0.1636\n",
            "Epoch 30/30\n",
            "68/68 [==============================] - 24s 349ms/step - loss: 3.8797 - categorical_accuracy: 0.1399\n"
          ]
        },
        {
          "output_type": "execute_result",
          "data": {
            "text/plain": [
              "<keras.callbacks.History at 0x7f079d126e10>"
            ]
          },
          "metadata": {},
          "execution_count": 20
        }
      ],
      "source": [
        "xception.fit(x_train,y_train,epochs=30)"
      ]
    },
    {
      "cell_type": "code",
      "execution_count": null,
      "metadata": {
        "id": "-rwFG9PbXZ0h",
        "colab": {
          "base_uri": "https://localhost:8080/"
        },
        "outputId": "61398570-5a63-456f-9126-ec32b5ae4daf"
      },
      "outputs": [
        {
          "output_type": "stream",
          "name": "stdout",
          "text": [
            "Epoch 1/30\n",
            "68/68 [==============================] - 29s 261ms/step - loss: 35.0159 - categorical_accuracy: 0.0233\n",
            "Epoch 2/30\n",
            "68/68 [==============================] - 17s 250ms/step - loss: 4.0513 - categorical_accuracy: 0.1245\n",
            "Epoch 3/30\n",
            "68/68 [==============================] - 17s 250ms/step - loss: 3.4847 - categorical_accuracy: 0.2247\n",
            "Epoch 4/30\n",
            "68/68 [==============================] - 17s 250ms/step - loss: 2.8769 - categorical_accuracy: 0.3273\n",
            "Epoch 5/30\n",
            "68/68 [==============================] - 17s 251ms/step - loss: 2.3154 - categorical_accuracy: 0.4368\n",
            "Epoch 6/30\n",
            "68/68 [==============================] - 17s 251ms/step - loss: 1.8952 - categorical_accuracy: 0.5096\n",
            "Epoch 7/30\n",
            "68/68 [==============================] - 17s 250ms/step - loss: 1.3272 - categorical_accuracy: 0.6578\n",
            "Epoch 8/30\n",
            "68/68 [==============================] - 17s 250ms/step - loss: 0.9147 - categorical_accuracy: 0.7450\n",
            "Epoch 9/30\n",
            "68/68 [==============================] - 17s 250ms/step - loss: 1.0350 - categorical_accuracy: 0.7277\n",
            "Epoch 10/30\n",
            "68/68 [==============================] - 17s 251ms/step - loss: 0.8747 - categorical_accuracy: 0.7809\n",
            "Epoch 11/30\n",
            "68/68 [==============================] - 17s 251ms/step - loss: 0.6479 - categorical_accuracy: 0.8219\n",
            "Epoch 12/30\n",
            "68/68 [==============================] - 17s 250ms/step - loss: 0.3329 - categorical_accuracy: 0.9193\n",
            "Epoch 13/30\n",
            "68/68 [==============================] - 17s 250ms/step - loss: 0.3468 - categorical_accuracy: 0.9030\n",
            "Epoch 14/30\n",
            "68/68 [==============================] - 17s 250ms/step - loss: 0.2117 - categorical_accuracy: 0.9436\n",
            "Epoch 15/30\n",
            "68/68 [==============================] - 17s 250ms/step - loss: 0.1964 - categorical_accuracy: 0.9464\n",
            "Epoch 16/30\n",
            "68/68 [==============================] - 17s 250ms/step - loss: 0.1219 - categorical_accuracy: 0.9692\n",
            "Epoch 17/30\n",
            "68/68 [==============================] - 17s 251ms/step - loss: 0.1067 - categorical_accuracy: 0.9716\n",
            "Epoch 18/30\n",
            "68/68 [==============================] - 17s 250ms/step - loss: 0.0773 - categorical_accuracy: 0.9758\n",
            "Epoch 19/30\n",
            "68/68 [==============================] - 17s 250ms/step - loss: 0.0477 - categorical_accuracy: 0.9897\n",
            "Epoch 20/30\n",
            "68/68 [==============================] - 17s 250ms/step - loss: 0.0490 - categorical_accuracy: 0.9893\n",
            "Epoch 21/30\n",
            "68/68 [==============================] - 17s 250ms/step - loss: 0.0315 - categorical_accuracy: 0.9921\n",
            "Epoch 22/30\n",
            "68/68 [==============================] - 17s 250ms/step - loss: 0.0401 - categorical_accuracy: 0.9902\n",
            "Epoch 23/30\n",
            "68/68 [==============================] - 17s 250ms/step - loss: 0.0175 - categorical_accuracy: 0.9949\n",
            "Epoch 24/30\n",
            "68/68 [==============================] - 17s 250ms/step - loss: 0.0463 - categorical_accuracy: 0.9855\n",
            "Epoch 25/30\n",
            "68/68 [==============================] - 17s 250ms/step - loss: 0.0383 - categorical_accuracy: 0.9911\n",
            "Epoch 26/30\n",
            "68/68 [==============================] - 17s 251ms/step - loss: 0.3484 - categorical_accuracy: 0.9133\n",
            "Epoch 27/30\n",
            "68/68 [==============================] - 17s 250ms/step - loss: 0.9979 - categorical_accuracy: 0.8089\n",
            "Epoch 28/30\n",
            "68/68 [==============================] - 17s 250ms/step - loss: 2.2611 - categorical_accuracy: 0.6452\n",
            "Epoch 29/30\n",
            "68/68 [==============================] - 17s 251ms/step - loss: 2.2118 - categorical_accuracy: 0.6690\n",
            "Epoch 30/30\n",
            "68/68 [==============================] - 17s 250ms/step - loss: 1.4260 - categorical_accuracy: 0.7641\n"
          ]
        },
        {
          "output_type": "execute_result",
          "data": {
            "text/plain": [
              "<keras.callbacks.History at 0x7f079da04fd0>"
            ]
          },
          "metadata": {},
          "execution_count": 21
        }
      ],
      "source": [
        "vg16.fit(x_train,y_train,epochs=30)"
      ]
    },
    {
      "cell_type": "code",
      "execution_count": null,
      "metadata": {
        "id": "S8aN5gjeXcu6",
        "colab": {
          "base_uri": "https://localhost:8080/"
        },
        "outputId": "de3cc2c3-651f-4c20-83e7-88ce53272bd7"
      },
      "outputs": [
        {
          "output_type": "stream",
          "name": "stdout",
          "text": [
            "Epoch 1/30\n",
            "68/68 [==============================] - 19s 190ms/step - loss: 454.4582 - categorical_accuracy: 0.0159\n",
            "Epoch 2/30\n",
            "68/68 [==============================] - 12s 183ms/step - loss: 4.6528 - categorical_accuracy: 0.0121\n",
            "Epoch 3/30\n",
            "68/68 [==============================] - 12s 183ms/step - loss: 4.5982 - categorical_accuracy: 0.0252\n",
            "Epoch 4/30\n",
            "68/68 [==============================] - 12s 183ms/step - loss: 4.5799 - categorical_accuracy: 0.0275\n",
            "Epoch 5/30\n",
            "68/68 [==============================] - 12s 183ms/step - loss: 4.5690 - categorical_accuracy: 0.0373\n",
            "Epoch 6/30\n",
            "68/68 [==============================] - 12s 183ms/step - loss: 4.5646 - categorical_accuracy: 0.0373\n",
            "Epoch 7/30\n",
            "68/68 [==============================] - 12s 183ms/step - loss: 4.5584 - categorical_accuracy: 0.0373\n",
            "Epoch 8/30\n",
            "68/68 [==============================] - 12s 183ms/step - loss: 4.5532 - categorical_accuracy: 0.0368\n",
            "Epoch 9/30\n",
            "68/68 [==============================] - 12s 183ms/step - loss: 4.5464 - categorical_accuracy: 0.0368\n",
            "Epoch 10/30\n",
            "68/68 [==============================] - 12s 183ms/step - loss: 4.5399 - categorical_accuracy: 0.0368\n",
            "Epoch 11/30\n",
            "68/68 [==============================] - 12s 183ms/step - loss: 4.5335 - categorical_accuracy: 0.0368\n",
            "Epoch 12/30\n",
            "68/68 [==============================] - 12s 183ms/step - loss: 4.5273 - categorical_accuracy: 0.0368\n",
            "Epoch 13/30\n",
            "68/68 [==============================] - 12s 182ms/step - loss: 4.5215 - categorical_accuracy: 0.0368\n",
            "Epoch 14/30\n",
            "68/68 [==============================] - 12s 182ms/step - loss: 4.5156 - categorical_accuracy: 0.0368\n",
            "Epoch 15/30\n",
            "68/68 [==============================] - 12s 183ms/step - loss: 4.5141 - categorical_accuracy: 0.0368\n",
            "Epoch 16/30\n",
            "68/68 [==============================] - 12s 183ms/step - loss: 4.5068 - categorical_accuracy: 0.0368\n",
            "Epoch 17/30\n",
            "68/68 [==============================] - 12s 182ms/step - loss: 4.5021 - categorical_accuracy: 0.0368\n",
            "Epoch 18/30\n",
            "68/68 [==============================] - 12s 182ms/step - loss: 4.4978 - categorical_accuracy: 0.0368\n",
            "Epoch 19/30\n",
            "68/68 [==============================] - 12s 182ms/step - loss: 4.4935 - categorical_accuracy: 0.0368\n",
            "Epoch 20/30\n",
            "68/68 [==============================] - 12s 182ms/step - loss: 4.4897 - categorical_accuracy: 0.0368\n",
            "Epoch 21/30\n",
            "68/68 [==============================] - 12s 183ms/step - loss: 4.4861 - categorical_accuracy: 0.0368\n",
            "Epoch 22/30\n",
            "68/68 [==============================] - 12s 182ms/step - loss: 4.4826 - categorical_accuracy: 0.0368\n",
            "Epoch 23/30\n",
            "68/68 [==============================] - 12s 183ms/step - loss: 4.4795 - categorical_accuracy: 0.0368\n",
            "Epoch 24/30\n",
            "68/68 [==============================] - 12s 183ms/step - loss: 4.4765 - categorical_accuracy: 0.0368\n",
            "Epoch 25/30\n",
            "68/68 [==============================] - 12s 183ms/step - loss: 4.4737 - categorical_accuracy: 0.0368\n",
            "Epoch 26/30\n",
            "68/68 [==============================] - 12s 182ms/step - loss: 4.4709 - categorical_accuracy: 0.0368\n",
            "Epoch 27/30\n",
            "68/68 [==============================] - 12s 182ms/step - loss: 4.4685 - categorical_accuracy: 0.0368\n",
            "Epoch 28/30\n",
            "68/68 [==============================] - 12s 182ms/step - loss: 4.4663 - categorical_accuracy: 0.0368\n",
            "Epoch 29/30\n",
            "68/68 [==============================] - 12s 182ms/step - loss: 4.4641 - categorical_accuracy: 0.0368\n",
            "Epoch 30/30\n",
            "68/68 [==============================] - 12s 182ms/step - loss: 4.4620 - categorical_accuracy: 0.0368\n"
          ]
        },
        {
          "output_type": "execute_result",
          "data": {
            "text/plain": [
              "<keras.callbacks.History at 0x7f079c808510>"
            ]
          },
          "metadata": {},
          "execution_count": 22
        }
      ],
      "source": [
        "inception.fit(x_train,y_train,epochs=30)"
      ]
    },
    {
      "cell_type": "code",
      "execution_count": null,
      "metadata": {
        "id": "g_tF6DAWuNXk",
        "colab": {
          "base_uri": "https://localhost:8080/"
        },
        "outputId": "0b053946-989e-4cae-ecaa-ed8b96739af8"
      },
      "outputs": [
        {
          "output_type": "stream",
          "name": "stdout",
          "text": [
            "Epoch 1/30\n",
            "68/68 [==============================] - 21s 243ms/step - loss: 32.0476 - categorical_accuracy: 0.0238\n",
            "Epoch 2/30\n",
            "68/68 [==============================] - 16s 241ms/step - loss: 4.3691 - categorical_accuracy: 0.0583\n",
            "Epoch 3/30\n",
            "68/68 [==============================] - 16s 242ms/step - loss: 3.9712 - categorical_accuracy: 0.1282\n",
            "Epoch 4/30\n",
            "68/68 [==============================] - 16s 243ms/step - loss: 3.3959 - categorical_accuracy: 0.2098\n",
            "Epoch 5/30\n",
            "68/68 [==============================] - 17s 243ms/step - loss: 2.9290 - categorical_accuracy: 0.2984\n",
            "Epoch 6/30\n",
            "68/68 [==============================] - 16s 242ms/step - loss: 2.5740 - categorical_accuracy: 0.3534\n",
            "Epoch 7/30\n",
            "68/68 [==============================] - 16s 243ms/step - loss: 1.9101 - categorical_accuracy: 0.4890\n",
            "Epoch 8/30\n",
            "68/68 [==============================] - 17s 244ms/step - loss: 1.3372 - categorical_accuracy: 0.6159\n",
            "Epoch 9/30\n",
            "68/68 [==============================] - 17s 244ms/step - loss: 0.8361 - categorical_accuracy: 0.7576\n",
            "Epoch 10/30\n",
            "68/68 [==============================] - 17s 243ms/step - loss: 0.5093 - categorical_accuracy: 0.8606\n",
            "Epoch 11/30\n",
            "68/68 [==============================] - 17s 243ms/step - loss: 0.6142 - categorical_accuracy: 0.8270\n",
            "Epoch 12/30\n",
            "68/68 [==============================] - 17s 245ms/step - loss: 0.2745 - categorical_accuracy: 0.9212\n",
            "Epoch 13/30\n",
            "68/68 [==============================] - 17s 245ms/step - loss: 0.1191 - categorical_accuracy: 0.9753\n",
            "Epoch 14/30\n",
            "68/68 [==============================] - 17s 243ms/step - loss: 0.0570 - categorical_accuracy: 0.9883\n",
            "Epoch 15/30\n",
            "68/68 [==============================] - 17s 243ms/step - loss: 0.0265 - categorical_accuracy: 0.9967\n",
            "Epoch 16/30\n",
            "68/68 [==============================] - 17s 244ms/step - loss: 0.0185 - categorical_accuracy: 0.9977\n",
            "Epoch 17/30\n",
            "68/68 [==============================] - 17s 243ms/step - loss: 0.0105 - categorical_accuracy: 0.9991\n",
            "Epoch 18/30\n",
            "68/68 [==============================] - 16s 241ms/step - loss: 0.0085 - categorical_accuracy: 0.9995\n",
            "Epoch 19/30\n",
            "68/68 [==============================] - 16s 241ms/step - loss: 0.0061 - categorical_accuracy: 0.9995\n",
            "Epoch 20/30\n",
            "68/68 [==============================] - 16s 240ms/step - loss: 0.0048 - categorical_accuracy: 1.0000\n",
            "Epoch 21/30\n",
            "68/68 [==============================] - 16s 240ms/step - loss: 0.0040 - categorical_accuracy: 1.0000\n",
            "Epoch 22/30\n",
            "68/68 [==============================] - 16s 241ms/step - loss: 0.0036 - categorical_accuracy: 1.0000\n",
            "Epoch 23/30\n",
            "68/68 [==============================] - 16s 241ms/step - loss: 0.0031 - categorical_accuracy: 1.0000\n",
            "Epoch 24/30\n",
            "68/68 [==============================] - 16s 242ms/step - loss: 0.0028 - categorical_accuracy: 1.0000\n",
            "Epoch 25/30\n",
            "68/68 [==============================] - 16s 243ms/step - loss: 0.0025 - categorical_accuracy: 1.0000\n",
            "Epoch 26/30\n",
            "68/68 [==============================] - 16s 241ms/step - loss: 0.0023 - categorical_accuracy: 1.0000\n",
            "Epoch 27/30\n",
            "68/68 [==============================] - 16s 242ms/step - loss: 0.0021 - categorical_accuracy: 1.0000\n",
            "Epoch 28/30\n",
            "68/68 [==============================] - 16s 242ms/step - loss: 0.0020 - categorical_accuracy: 1.0000\n",
            "Epoch 29/30\n",
            "68/68 [==============================] - 16s 242ms/step - loss: 0.0018 - categorical_accuracy: 1.0000\n",
            "Epoch 30/30\n",
            "68/68 [==============================] - 16s 242ms/step - loss: 0.0017 - categorical_accuracy: 1.0000\n"
          ]
        },
        {
          "output_type": "execute_result",
          "data": {
            "text/plain": [
              "<keras.callbacks.History at 0x7f079b4b3cd0>"
            ]
          },
          "metadata": {},
          "execution_count": 23
        }
      ],
      "source": [
        "resnet.fit(x_train,y_train,epochs=30)"
      ]
    },
    {
      "cell_type": "code",
      "source": [
        "from sklearn.model_selection import KFold\n",
        "skf=KFold(n_splits=10)"
      ],
      "metadata": {
        "id": "sKR_7u5AxABk"
      },
      "execution_count": null,
      "outputs": []
    },
    {
      "cell_type": "code",
      "execution_count": null,
      "metadata": {
        "id": "vBDssLQzuNau"
      },
      "outputs": [],
      "source": [
        "def model_train(estimator,train,label,test):\n",
        "    test_pred_y = np.zeros((test.shape[0],100))\n",
        "    for count, (train_index,test_index) in enumerate(skf.split(train,label)):\n",
        "        x_train,x_test = train[train_index],train[test_index]\n",
        "        y_train,y_test = label[train_index],label[test_index]\n",
        "        print(f'========================Fold{count +1}==========================')\n",
        "        estimator.fit(x_train,y_train,epochs=30)\n",
        "                              \n",
        "        \n",
        "        test_pred= estimator.predict(test)\n",
        "        test_pred_y +=test_pred\n",
        "        \n",
        "    return test_pred_y"
      ]
    },
    {
      "cell_type": "code",
      "execution_count": null,
      "metadata": {
        "id": "NkjvaZfSuNdm",
        "colab": {
          "base_uri": "https://localhost:8080/"
        },
        "outputId": "c53dffb7-94bc-4b88-81db-ea5ef1e9b28d"
      },
      "outputs": [
        {
          "output_type": "stream",
          "name": "stdout",
          "text": [
            "========================Fold1==========================\n",
            "Epoch 1/30\n",
            "61/61 [==============================] - 15s 244ms/step - loss: 9.4204e-04 - categorical_accuracy: 1.0000\n",
            "Epoch 2/30\n",
            "61/61 [==============================] - 15s 242ms/step - loss: 8.8781e-04 - categorical_accuracy: 1.0000\n",
            "Epoch 3/30\n",
            "61/61 [==============================] - 15s 243ms/step - loss: 8.3726e-04 - categorical_accuracy: 1.0000\n",
            "Epoch 4/30\n",
            "61/61 [==============================] - 15s 242ms/step - loss: 7.9485e-04 - categorical_accuracy: 1.0000\n",
            "Epoch 5/30\n",
            "61/61 [==============================] - 15s 242ms/step - loss: 7.5415e-04 - categorical_accuracy: 1.0000\n",
            "Epoch 6/30\n",
            "61/61 [==============================] - 15s 242ms/step - loss: 7.1603e-04 - categorical_accuracy: 1.0000\n",
            "Epoch 7/30\n",
            "61/61 [==============================] - 15s 242ms/step - loss: 6.8559e-04 - categorical_accuracy: 1.0000\n",
            "Epoch 8/30\n",
            "61/61 [==============================] - 15s 242ms/step - loss: 6.4932e-04 - categorical_accuracy: 1.0000\n",
            "Epoch 9/30\n",
            "61/61 [==============================] - 15s 242ms/step - loss: 6.1736e-04 - categorical_accuracy: 1.0000\n",
            "Epoch 10/30\n",
            "61/61 [==============================] - 15s 241ms/step - loss: 5.8936e-04 - categorical_accuracy: 1.0000\n",
            "Epoch 11/30\n",
            "61/61 [==============================] - 15s 242ms/step - loss: 5.6071e-04 - categorical_accuracy: 1.0000\n",
            "Epoch 12/30\n",
            "61/61 [==============================] - 15s 242ms/step - loss: 5.3465e-04 - categorical_accuracy: 1.0000\n",
            "Epoch 13/30\n",
            "61/61 [==============================] - 15s 242ms/step - loss: 5.1188e-04 - categorical_accuracy: 1.0000\n",
            "Epoch 14/30\n",
            "61/61 [==============================] - 15s 242ms/step - loss: 4.8800e-04 - categorical_accuracy: 1.0000\n",
            "Epoch 15/30\n",
            "61/61 [==============================] - 15s 242ms/step - loss: 4.6636e-04 - categorical_accuracy: 1.0000\n",
            "Epoch 16/30\n",
            "61/61 [==============================] - 15s 242ms/step - loss: 4.4554e-04 - categorical_accuracy: 1.0000\n",
            "Epoch 17/30\n",
            "61/61 [==============================] - 15s 242ms/step - loss: 4.2630e-04 - categorical_accuracy: 1.0000\n",
            "Epoch 18/30\n",
            "61/61 [==============================] - 15s 242ms/step - loss: 4.0771e-04 - categorical_accuracy: 1.0000\n",
            "Epoch 19/30\n",
            "61/61 [==============================] - 15s 241ms/step - loss: 3.9052e-04 - categorical_accuracy: 1.0000\n",
            "Epoch 20/30\n",
            "61/61 [==============================] - 15s 242ms/step - loss: 3.7399e-04 - categorical_accuracy: 1.0000\n",
            "Epoch 21/30\n",
            "61/61 [==============================] - 15s 242ms/step - loss: 3.5904e-04 - categorical_accuracy: 1.0000\n",
            "Epoch 22/30\n",
            "61/61 [==============================] - 15s 241ms/step - loss: 3.4356e-04 - categorical_accuracy: 1.0000\n",
            "Epoch 23/30\n",
            "61/61 [==============================] - 15s 241ms/step - loss: 3.3024e-04 - categorical_accuracy: 1.0000\n",
            "Epoch 24/30\n",
            "61/61 [==============================] - 15s 242ms/step - loss: 3.1701e-04 - categorical_accuracy: 1.0000\n",
            "Epoch 25/30\n",
            "61/61 [==============================] - 15s 242ms/step - loss: 3.0364e-04 - categorical_accuracy: 1.0000\n",
            "Epoch 26/30\n",
            "61/61 [==============================] - 15s 242ms/step - loss: 2.9123e-04 - categorical_accuracy: 1.0000\n",
            "Epoch 27/30\n",
            "61/61 [==============================] - 15s 242ms/step - loss: 2.7954e-04 - categorical_accuracy: 1.0000\n",
            "Epoch 28/30\n",
            "61/61 [==============================] - 15s 242ms/step - loss: 2.6783e-04 - categorical_accuracy: 1.0000\n",
            "Epoch 29/30\n",
            "61/61 [==============================] - 15s 242ms/step - loss: 2.5690e-04 - categorical_accuracy: 1.0000\n",
            "Epoch 30/30\n",
            "61/61 [==============================] - 15s 241ms/step - loss: 2.4669e-04 - categorical_accuracy: 1.0000\n",
            "========================Fold2==========================\n",
            "Epoch 1/30\n",
            "61/61 [==============================] - 15s 242ms/step - loss: 4.0190e-04 - categorical_accuracy: 1.0000\n",
            "Epoch 2/30\n",
            "61/61 [==============================] - 15s 243ms/step - loss: 3.0402e-04 - categorical_accuracy: 1.0000\n",
            "Epoch 3/30\n",
            "61/61 [==============================] - 15s 243ms/step - loss: 2.6969e-04 - categorical_accuracy: 1.0000\n",
            "Epoch 4/30\n",
            "61/61 [==============================] - 15s 242ms/step - loss: 2.4934e-04 - categorical_accuracy: 1.0000\n",
            "Epoch 5/30\n",
            "61/61 [==============================] - 15s 242ms/step - loss: 2.3436e-04 - categorical_accuracy: 1.0000\n",
            "Epoch 6/30\n",
            "61/61 [==============================] - 15s 243ms/step - loss: 2.2149e-04 - categorical_accuracy: 1.0000\n",
            "Epoch 7/30\n",
            "61/61 [==============================] - 15s 243ms/step - loss: 2.1003e-04 - categorical_accuracy: 1.0000\n",
            "Epoch 8/30\n",
            "61/61 [==============================] - 15s 242ms/step - loss: 1.9987e-04 - categorical_accuracy: 1.0000\n",
            "Epoch 9/30\n",
            "61/61 [==============================] - 15s 242ms/step - loss: 1.9043e-04 - categorical_accuracy: 1.0000\n",
            "Epoch 10/30\n",
            "61/61 [==============================] - 15s 244ms/step - loss: 1.8153e-04 - categorical_accuracy: 1.0000\n",
            "Epoch 11/30\n",
            "61/61 [==============================] - 15s 244ms/step - loss: 1.7358e-04 - categorical_accuracy: 1.0000\n",
            "Epoch 12/30\n",
            "61/61 [==============================] - 15s 243ms/step - loss: 1.6615e-04 - categorical_accuracy: 1.0000\n",
            "Epoch 13/30\n",
            "61/61 [==============================] - 15s 244ms/step - loss: 1.5857e-04 - categorical_accuracy: 1.0000\n",
            "Epoch 14/30\n",
            "61/61 [==============================] - 15s 244ms/step - loss: 1.5212e-04 - categorical_accuracy: 1.0000\n",
            "Epoch 15/30\n",
            "61/61 [==============================] - 15s 244ms/step - loss: 1.4594e-04 - categorical_accuracy: 1.0000\n",
            "Epoch 16/30\n",
            "61/61 [==============================] - 15s 243ms/step - loss: 1.4018e-04 - categorical_accuracy: 1.0000\n",
            "Epoch 17/30\n",
            "61/61 [==============================] - 15s 244ms/step - loss: 1.3452e-04 - categorical_accuracy: 1.0000\n",
            "Epoch 18/30\n",
            "61/61 [==============================] - 15s 244ms/step - loss: 1.2889e-04 - categorical_accuracy: 1.0000\n",
            "Epoch 19/30\n",
            "61/61 [==============================] - 15s 244ms/step - loss: 1.2372e-04 - categorical_accuracy: 1.0000\n",
            "Epoch 20/30\n",
            "61/61 [==============================] - 15s 243ms/step - loss: 1.1897e-04 - categorical_accuracy: 1.0000\n",
            "Epoch 21/30\n",
            "61/61 [==============================] - 15s 243ms/step - loss: 1.1444e-04 - categorical_accuracy: 1.0000\n",
            "Epoch 22/30\n",
            "61/61 [==============================] - 15s 243ms/step - loss: 1.1017e-04 - categorical_accuracy: 1.0000\n",
            "Epoch 23/30\n",
            "61/61 [==============================] - 15s 243ms/step - loss: 1.0591e-04 - categorical_accuracy: 1.0000\n",
            "Epoch 24/30\n",
            "61/61 [==============================] - 15s 242ms/step - loss: 1.0201e-04 - categorical_accuracy: 1.0000\n",
            "Epoch 25/30\n",
            "61/61 [==============================] - 15s 242ms/step - loss: 9.8178e-05 - categorical_accuracy: 1.0000\n",
            "Epoch 26/30\n",
            "61/61 [==============================] - 15s 243ms/step - loss: 9.4646e-05 - categorical_accuracy: 1.0000\n",
            "Epoch 27/30\n",
            "61/61 [==============================] - 15s 243ms/step - loss: 9.1262e-05 - categorical_accuracy: 1.0000\n",
            "Epoch 28/30\n",
            "61/61 [==============================] - 15s 243ms/step - loss: 8.7843e-05 - categorical_accuracy: 1.0000\n",
            "Epoch 29/30\n",
            "61/61 [==============================] - 15s 242ms/step - loss: 8.4640e-05 - categorical_accuracy: 1.0000\n",
            "Epoch 30/30\n",
            "61/61 [==============================] - 15s 243ms/step - loss: 8.1607e-05 - categorical_accuracy: 1.0000\n",
            "========================Fold3==========================\n",
            "Epoch 1/30\n",
            "61/61 [==============================] - 15s 243ms/step - loss: 1.1497e-04 - categorical_accuracy: 1.0000\n",
            "Epoch 2/30\n",
            "61/61 [==============================] - 15s 243ms/step - loss: 9.6178e-05 - categorical_accuracy: 1.0000\n",
            "Epoch 3/30\n",
            "61/61 [==============================] - 15s 243ms/step - loss: 8.9779e-05 - categorical_accuracy: 1.0000\n",
            "Epoch 4/30\n",
            "61/61 [==============================] - 15s 243ms/step - loss: 8.4916e-05 - categorical_accuracy: 1.0000\n",
            "Epoch 5/30\n",
            "61/61 [==============================] - 15s 243ms/step - loss: 8.0416e-05 - categorical_accuracy: 1.0000\n",
            "Epoch 6/30\n",
            "61/61 [==============================] - 15s 242ms/step - loss: 7.6507e-05 - categorical_accuracy: 1.0000\n",
            "Epoch 7/30\n",
            "61/61 [==============================] - 15s 242ms/step - loss: 7.3114e-05 - categorical_accuracy: 1.0000\n",
            "Epoch 8/30\n",
            "61/61 [==============================] - 15s 243ms/step - loss: 6.9872e-05 - categorical_accuracy: 1.0000\n",
            "Epoch 9/30\n",
            "61/61 [==============================] - 15s 242ms/step - loss: 6.6772e-05 - categorical_accuracy: 1.0000\n",
            "Epoch 10/30\n",
            "61/61 [==============================] - 15s 243ms/step - loss: 6.4033e-05 - categorical_accuracy: 1.0000\n",
            "Epoch 11/30\n",
            "61/61 [==============================] - 15s 243ms/step - loss: 6.1301e-05 - categorical_accuracy: 1.0000\n",
            "Epoch 12/30\n",
            "61/61 [==============================] - 15s 243ms/step - loss: 5.8897e-05 - categorical_accuracy: 1.0000\n",
            "Epoch 13/30\n",
            "61/61 [==============================] - 15s 243ms/step - loss: 5.6422e-05 - categorical_accuracy: 1.0000\n",
            "Epoch 14/30\n",
            "61/61 [==============================] - 15s 243ms/step - loss: 5.4259e-05 - categorical_accuracy: 1.0000\n",
            "Epoch 15/30\n",
            "61/61 [==============================] - 15s 244ms/step - loss: 5.2136e-05 - categorical_accuracy: 1.0000\n",
            "Epoch 16/30\n",
            "61/61 [==============================] - 15s 245ms/step - loss: 5.0046e-05 - categorical_accuracy: 1.0000\n",
            "Epoch 17/30\n",
            "61/61 [==============================] - 15s 244ms/step - loss: 4.8167e-05 - categorical_accuracy: 1.0000\n",
            "Epoch 18/30\n",
            "61/61 [==============================] - 15s 244ms/step - loss: 4.6397e-05 - categorical_accuracy: 1.0000\n",
            "Epoch 19/30\n",
            "61/61 [==============================] - 15s 244ms/step - loss: 4.4605e-05 - categorical_accuracy: 1.0000\n",
            "Epoch 20/30\n",
            "61/61 [==============================] - 15s 244ms/step - loss: 4.2998e-05 - categorical_accuracy: 1.0000\n",
            "Epoch 21/30\n",
            "61/61 [==============================] - 15s 245ms/step - loss: 4.1304e-05 - categorical_accuracy: 1.0000\n",
            "Epoch 22/30\n",
            "61/61 [==============================] - 15s 244ms/step - loss: 3.9783e-05 - categorical_accuracy: 1.0000\n",
            "Epoch 23/30\n",
            "61/61 [==============================] - 15s 245ms/step - loss: 3.8351e-05 - categorical_accuracy: 1.0000\n",
            "Epoch 24/30\n",
            "61/61 [==============================] - 15s 245ms/step - loss: 3.6889e-05 - categorical_accuracy: 1.0000\n",
            "Epoch 25/30\n",
            "61/61 [==============================] - 15s 245ms/step - loss: 3.5518e-05 - categorical_accuracy: 1.0000\n",
            "Epoch 26/30\n",
            "61/61 [==============================] - 15s 244ms/step - loss: 3.4190e-05 - categorical_accuracy: 1.0000\n",
            "Epoch 27/30\n",
            "61/61 [==============================] - 15s 245ms/step - loss: 3.2958e-05 - categorical_accuracy: 1.0000\n",
            "Epoch 28/30\n",
            "61/61 [==============================] - 15s 244ms/step - loss: 3.1793e-05 - categorical_accuracy: 1.0000\n",
            "Epoch 29/30\n",
            "61/61 [==============================] - 15s 246ms/step - loss: 3.0632e-05 - categorical_accuracy: 1.0000\n",
            "Epoch 30/30\n",
            "61/61 [==============================] - 15s 245ms/step - loss: 2.9585e-05 - categorical_accuracy: 1.0000\n",
            "========================Fold4==========================\n",
            "Epoch 1/30\n",
            "61/61 [==============================] - 15s 247ms/step - loss: 3.7405e-05 - categorical_accuracy: 1.0000\n",
            "Epoch 2/30\n",
            "61/61 [==============================] - 15s 246ms/step - loss: 3.3108e-05 - categorical_accuracy: 1.0000\n",
            "Epoch 3/30\n",
            "61/61 [==============================] - 15s 246ms/step - loss: 3.1001e-05 - categorical_accuracy: 1.0000\n",
            "Epoch 4/30\n",
            "61/61 [==============================] - 15s 246ms/step - loss: 2.9349e-05 - categorical_accuracy: 1.0000\n",
            "Epoch 5/30\n",
            "61/61 [==============================] - 15s 245ms/step - loss: 2.7996e-05 - categorical_accuracy: 1.0000\n",
            "Epoch 6/30\n",
            "61/61 [==============================] - 15s 245ms/step - loss: 2.6767e-05 - categorical_accuracy: 1.0000\n",
            "Epoch 7/30\n",
            "61/61 [==============================] - 15s 245ms/step - loss: 2.5618e-05 - categorical_accuracy: 1.0000\n",
            "Epoch 8/30\n",
            "61/61 [==============================] - 15s 244ms/step - loss: 2.4516e-05 - categorical_accuracy: 1.0000\n",
            "Epoch 9/30\n",
            "61/61 [==============================] - 15s 244ms/step - loss: 2.3523e-05 - categorical_accuracy: 1.0000\n",
            "Epoch 10/30\n",
            "61/61 [==============================] - 15s 245ms/step - loss: 2.2605e-05 - categorical_accuracy: 1.0000\n",
            "Epoch 11/30\n",
            "61/61 [==============================] - 15s 246ms/step - loss: 2.1742e-05 - categorical_accuracy: 1.0000\n",
            "Epoch 12/30\n",
            "61/61 [==============================] - 15s 244ms/step - loss: 2.0892e-05 - categorical_accuracy: 1.0000\n",
            "Epoch 13/30\n",
            "61/61 [==============================] - 15s 244ms/step - loss: 2.0090e-05 - categorical_accuracy: 1.0000\n",
            "Epoch 14/30\n",
            "61/61 [==============================] - 15s 245ms/step - loss: 1.9328e-05 - categorical_accuracy: 1.0000\n",
            "Epoch 15/30\n",
            "61/61 [==============================] - 15s 245ms/step - loss: 1.8628e-05 - categorical_accuracy: 1.0000\n",
            "Epoch 16/30\n",
            "61/61 [==============================] - 15s 244ms/step - loss: 1.7946e-05 - categorical_accuracy: 1.0000\n",
            "Epoch 17/30\n",
            "61/61 [==============================] - 15s 245ms/step - loss: 1.7301e-05 - categorical_accuracy: 1.0000\n",
            "Epoch 18/30\n",
            "61/61 [==============================] - 15s 246ms/step - loss: 1.6648e-05 - categorical_accuracy: 1.0000\n",
            "Epoch 19/30\n",
            "61/61 [==============================] - 15s 245ms/step - loss: 1.6058e-05 - categorical_accuracy: 1.0000\n",
            "Epoch 20/30\n",
            "61/61 [==============================] - 15s 244ms/step - loss: 1.5506e-05 - categorical_accuracy: 1.0000\n",
            "Epoch 21/30\n",
            "61/61 [==============================] - 15s 244ms/step - loss: 1.4947e-05 - categorical_accuracy: 1.0000\n",
            "Epoch 22/30\n",
            "61/61 [==============================] - 15s 245ms/step - loss: 1.4404e-05 - categorical_accuracy: 1.0000\n",
            "Epoch 23/30\n",
            "61/61 [==============================] - 15s 246ms/step - loss: 1.3898e-05 - categorical_accuracy: 1.0000\n",
            "Epoch 24/30\n",
            "61/61 [==============================] - 15s 244ms/step - loss: 1.3389e-05 - categorical_accuracy: 1.0000\n",
            "Epoch 25/30\n",
            "61/61 [==============================] - 15s 244ms/step - loss: 1.2911e-05 - categorical_accuracy: 1.0000\n",
            "Epoch 26/30\n",
            "61/61 [==============================] - 15s 246ms/step - loss: 1.2454e-05 - categorical_accuracy: 1.0000\n",
            "Epoch 27/30\n",
            "61/61 [==============================] - 15s 244ms/step - loss: 1.2033e-05 - categorical_accuracy: 1.0000\n",
            "Epoch 28/30\n",
            "61/61 [==============================] - 15s 244ms/step - loss: 1.1613e-05 - categorical_accuracy: 1.0000\n",
            "Epoch 29/30\n",
            "61/61 [==============================] - 15s 244ms/step - loss: 1.1212e-05 - categorical_accuracy: 1.0000\n",
            "Epoch 30/30\n",
            "61/61 [==============================] - 15s 244ms/step - loss: 1.0808e-05 - categorical_accuracy: 1.0000\n",
            "========================Fold5==========================\n",
            "Epoch 1/30\n",
            "61/61 [==============================] - 15s 246ms/step - loss: 1.3141e-05 - categorical_accuracy: 1.0000\n",
            "Epoch 2/30\n",
            "61/61 [==============================] - 15s 246ms/step - loss: 1.1769e-05 - categorical_accuracy: 1.0000\n",
            "Epoch 3/30\n",
            "61/61 [==============================] - 15s 246ms/step - loss: 1.0997e-05 - categorical_accuracy: 1.0000\n",
            "Epoch 4/30\n",
            "61/61 [==============================] - 15s 245ms/step - loss: 1.0423e-05 - categorical_accuracy: 1.0000\n",
            "Epoch 5/30\n",
            "61/61 [==============================] - 15s 247ms/step - loss: 9.9391e-06 - categorical_accuracy: 1.0000\n",
            "Epoch 6/30\n",
            "61/61 [==============================] - 15s 245ms/step - loss: 9.5295e-06 - categorical_accuracy: 1.0000\n",
            "Epoch 7/30\n",
            "61/61 [==============================] - 15s 244ms/step - loss: 9.1193e-06 - categorical_accuracy: 1.0000\n",
            "Epoch 8/30\n",
            "61/61 [==============================] - 15s 245ms/step - loss: 8.7738e-06 - categorical_accuracy: 1.0000\n",
            "Epoch 9/30\n",
            "61/61 [==============================] - 15s 245ms/step - loss: 8.4218e-06 - categorical_accuracy: 1.0000\n",
            "Epoch 10/30\n",
            "61/61 [==============================] - 15s 244ms/step - loss: 8.0793e-06 - categorical_accuracy: 1.0000\n",
            "Epoch 11/30\n",
            "61/61 [==============================] - 15s 244ms/step - loss: 7.7891e-06 - categorical_accuracy: 1.0000\n",
            "Epoch 12/30\n",
            "61/61 [==============================] - 15s 245ms/step - loss: 7.4923e-06 - categorical_accuracy: 1.0000\n",
            "Epoch 13/30\n",
            "61/61 [==============================] - 15s 245ms/step - loss: 7.2072e-06 - categorical_accuracy: 1.0000\n",
            "Epoch 14/30\n",
            "61/61 [==============================] - 15s 244ms/step - loss: 6.9505e-06 - categorical_accuracy: 1.0000\n",
            "Epoch 15/30\n",
            "61/61 [==============================] - 15s 244ms/step - loss: 6.6970e-06 - categorical_accuracy: 1.0000\n",
            "Epoch 16/30\n",
            "61/61 [==============================] - 15s 245ms/step - loss: 6.4506e-06 - categorical_accuracy: 1.0000\n",
            "Epoch 17/30\n",
            "61/61 [==============================] - 15s 245ms/step - loss: 6.2158e-06 - categorical_accuracy: 1.0000\n",
            "Epoch 18/30\n",
            "61/61 [==============================] - 15s 244ms/step - loss: 5.9935e-06 - categorical_accuracy: 1.0000\n",
            "Epoch 19/30\n",
            "61/61 [==============================] - 15s 244ms/step - loss: 5.7786e-06 - categorical_accuracy: 1.0000\n",
            "Epoch 20/30\n",
            "61/61 [==============================] - 15s 245ms/step - loss: 5.5747e-06 - categorical_accuracy: 1.0000\n",
            "Epoch 21/30\n",
            "61/61 [==============================] - 15s 244ms/step - loss: 5.3671e-06 - categorical_accuracy: 1.0000\n",
            "Epoch 22/30\n",
            "61/61 [==============================] - 15s 243ms/step - loss: 5.1767e-06 - categorical_accuracy: 1.0000\n",
            "Epoch 23/30\n",
            "61/61 [==============================] - 15s 244ms/step - loss: 4.9874e-06 - categorical_accuracy: 1.0000\n",
            "Epoch 24/30\n",
            "61/61 [==============================] - 15s 244ms/step - loss: 4.8066e-06 - categorical_accuracy: 1.0000\n",
            "Epoch 25/30\n",
            "61/61 [==============================] - 15s 246ms/step - loss: 4.6414e-06 - categorical_accuracy: 1.0000\n",
            "Epoch 26/30\n",
            "61/61 [==============================] - 15s 244ms/step - loss: 4.4717e-06 - categorical_accuracy: 1.0000\n",
            "Epoch 27/30\n",
            "61/61 [==============================] - 15s 244ms/step - loss: 4.3158e-06 - categorical_accuracy: 1.0000\n",
            "Epoch 28/30\n",
            "61/61 [==============================] - 15s 244ms/step - loss: 4.1668e-06 - categorical_accuracy: 1.0000\n",
            "Epoch 29/30\n",
            "61/61 [==============================] - 15s 244ms/step - loss: 4.0213e-06 - categorical_accuracy: 1.0000\n",
            "Epoch 30/30\n",
            "61/61 [==============================] - 15s 244ms/step - loss: 3.8874e-06 - categorical_accuracy: 1.0000\n",
            "========================Fold6==========================\n",
            "Epoch 1/30\n",
            "61/61 [==============================] - 15s 252ms/step - loss: 5.2085e-06 - categorical_accuracy: 1.0000\n",
            "Epoch 2/30\n",
            "61/61 [==============================] - 15s 245ms/step - loss: 4.3958e-06 - categorical_accuracy: 1.0000\n",
            "Epoch 3/30\n",
            "61/61 [==============================] - 15s 245ms/step - loss: 4.1100e-06 - categorical_accuracy: 1.0000\n",
            "Epoch 4/30\n",
            "61/61 [==============================] - 15s 245ms/step - loss: 3.8935e-06 - categorical_accuracy: 1.0000\n",
            "Epoch 5/30\n",
            "61/61 [==============================] - 15s 244ms/step - loss: 3.7078e-06 - categorical_accuracy: 1.0000\n",
            "Epoch 6/30\n",
            "61/61 [==============================] - 15s 244ms/step - loss: 3.5385e-06 - categorical_accuracy: 1.0000\n",
            "Epoch 7/30\n",
            "61/61 [==============================] - 15s 244ms/step - loss: 3.3982e-06 - categorical_accuracy: 1.0000\n",
            "Epoch 8/30\n",
            "61/61 [==============================] - 15s 245ms/step - loss: 3.2574e-06 - categorical_accuracy: 1.0000\n",
            "Epoch 9/30\n",
            "61/61 [==============================] - 15s 243ms/step - loss: 3.1199e-06 - categorical_accuracy: 1.0000\n",
            "Epoch 10/30\n",
            "61/61 [==============================] - 15s 243ms/step - loss: 3.0014e-06 - categorical_accuracy: 1.0000\n",
            "Epoch 11/30\n",
            "61/61 [==============================] - 15s 244ms/step - loss: 2.8852e-06 - categorical_accuracy: 1.0000\n",
            "Epoch 12/30\n",
            "61/61 [==============================] - 15s 244ms/step - loss: 2.7708e-06 - categorical_accuracy: 1.0000\n",
            "Epoch 13/30\n",
            "61/61 [==============================] - 15s 244ms/step - loss: 2.6738e-06 - categorical_accuracy: 1.0000\n",
            "Epoch 14/30\n",
            "61/61 [==============================] - 15s 245ms/step - loss: 2.5748e-06 - categorical_accuracy: 1.0000\n",
            "Epoch 15/30\n",
            "61/61 [==============================] - 15s 245ms/step - loss: 2.4788e-06 - categorical_accuracy: 1.0000\n",
            "Epoch 16/30\n",
            "61/61 [==============================] - 15s 244ms/step - loss: 2.3942e-06 - categorical_accuracy: 1.0000\n",
            "Epoch 17/30\n",
            "61/61 [==============================] - 15s 244ms/step - loss: 2.3019e-06 - categorical_accuracy: 1.0000\n",
            "Epoch 18/30\n",
            "61/61 [==============================] - 15s 244ms/step - loss: 2.2211e-06 - categorical_accuracy: 1.0000\n",
            "Epoch 19/30\n",
            "61/61 [==============================] - 15s 246ms/step - loss: 2.1423e-06 - categorical_accuracy: 1.0000\n",
            "Epoch 20/30\n",
            "61/61 [==============================] - 15s 246ms/step - loss: 2.0666e-06 - categorical_accuracy: 1.0000\n",
            "Epoch 21/30\n",
            "61/61 [==============================] - 15s 243ms/step - loss: 1.9928e-06 - categorical_accuracy: 1.0000\n",
            "Epoch 22/30\n",
            "61/61 [==============================] - 15s 244ms/step - loss: 1.9216e-06 - categorical_accuracy: 1.0000\n",
            "Epoch 23/30\n",
            "61/61 [==============================] - 15s 245ms/step - loss: 1.8530e-06 - categorical_accuracy: 1.0000\n",
            "Epoch 24/30\n",
            "61/61 [==============================] - 15s 245ms/step - loss: 1.7887e-06 - categorical_accuracy: 1.0000\n",
            "Epoch 25/30\n",
            "61/61 [==============================] - 15s 244ms/step - loss: 1.7304e-06 - categorical_accuracy: 1.0000\n",
            "Epoch 26/30\n",
            "61/61 [==============================] - 15s 244ms/step - loss: 1.6688e-06 - categorical_accuracy: 1.0000\n",
            "Epoch 27/30\n",
            "61/61 [==============================] - 15s 246ms/step - loss: 1.6065e-06 - categorical_accuracy: 1.0000\n",
            "Epoch 28/30\n",
            "61/61 [==============================] - 15s 246ms/step - loss: 1.5515e-06 - categorical_accuracy: 1.0000\n",
            "Epoch 29/30\n",
            "61/61 [==============================] - 15s 244ms/step - loss: 1.4928e-06 - categorical_accuracy: 1.0000\n",
            "Epoch 30/30\n",
            "61/61 [==============================] - 15s 243ms/step - loss: 1.4456e-06 - categorical_accuracy: 1.0000\n",
            "========================Fold7==========================\n",
            "Epoch 1/30\n",
            "61/61 [==============================] - 15s 247ms/step - loss: 1.7821e-06 - categorical_accuracy: 1.0000\n",
            "Epoch 2/30\n",
            "61/61 [==============================] - 15s 246ms/step - loss: 1.6179e-06 - categorical_accuracy: 1.0000\n",
            "Epoch 3/30\n",
            "61/61 [==============================] - 15s 245ms/step - loss: 1.5239e-06 - categorical_accuracy: 1.0000\n",
            "Epoch 4/30\n",
            "61/61 [==============================] - 15s 245ms/step - loss: 1.4452e-06 - categorical_accuracy: 1.0000\n",
            "Epoch 5/30\n",
            "61/61 [==============================] - 15s 245ms/step - loss: 1.3795e-06 - categorical_accuracy: 1.0000\n",
            "Epoch 6/30\n",
            "61/61 [==============================] - 15s 245ms/step - loss: 1.3195e-06 - categorical_accuracy: 1.0000\n",
            "Epoch 7/30\n",
            "61/61 [==============================] - 15s 245ms/step - loss: 1.2656e-06 - categorical_accuracy: 1.0000\n",
            "Epoch 8/30\n",
            "61/61 [==============================] - 15s 246ms/step - loss: 1.2141e-06 - categorical_accuracy: 1.0000\n",
            "Epoch 9/30\n",
            "61/61 [==============================] - 15s 245ms/step - loss: 1.1651e-06 - categorical_accuracy: 1.0000\n",
            "Epoch 10/30\n",
            "61/61 [==============================] - 15s 246ms/step - loss: 1.1171e-06 - categorical_accuracy: 1.0000\n",
            "Epoch 11/30\n",
            "61/61 [==============================] - 15s 245ms/step - loss: 1.0737e-06 - categorical_accuracy: 1.0000\n",
            "Epoch 12/30\n",
            "61/61 [==============================] - 15s 245ms/step - loss: 1.0337e-06 - categorical_accuracy: 1.0000\n",
            "Epoch 13/30\n",
            "61/61 [==============================] - 15s 246ms/step - loss: 9.9744e-07 - categorical_accuracy: 1.0000\n",
            "Epoch 14/30\n",
            "61/61 [==============================] - 15s 246ms/step - loss: 9.5942e-07 - categorical_accuracy: 1.0000\n",
            "Epoch 15/30\n",
            "61/61 [==============================] - 15s 244ms/step - loss: 9.2213e-07 - categorical_accuracy: 1.0000\n",
            "Epoch 16/30\n",
            "61/61 [==============================] - 15s 245ms/step - loss: 8.8737e-07 - categorical_accuracy: 1.0000\n",
            "Epoch 17/30\n",
            "61/61 [==============================] - 15s 244ms/step - loss: 8.5465e-07 - categorical_accuracy: 1.0000\n",
            "Epoch 18/30\n",
            "61/61 [==============================] - 15s 245ms/step - loss: 8.2341e-07 - categorical_accuracy: 1.0000\n",
            "Epoch 19/30\n",
            "61/61 [==============================] - 15s 244ms/step - loss: 7.9298e-07 - categorical_accuracy: 1.0000\n",
            "Epoch 20/30\n",
            "61/61 [==============================] - 15s 244ms/step - loss: 7.6829e-07 - categorical_accuracy: 1.0000\n",
            "Epoch 21/30\n",
            "61/61 [==============================] - 15s 245ms/step - loss: 7.3797e-07 - categorical_accuracy: 1.0000\n",
            "Epoch 22/30\n",
            "61/61 [==============================] - 15s 246ms/step - loss: 7.1451e-07 - categorical_accuracy: 1.0000\n",
            "Epoch 23/30\n",
            "61/61 [==============================] - 15s 244ms/step - loss: 6.8661e-07 - categorical_accuracy: 1.0000\n",
            "Epoch 24/30\n",
            "61/61 [==============================] - 15s 244ms/step - loss: 6.6198e-07 - categorical_accuracy: 1.0000\n",
            "Epoch 25/30\n",
            "61/61 [==============================] - 15s 245ms/step - loss: 6.3938e-07 - categorical_accuracy: 1.0000\n",
            "Epoch 26/30\n",
            "61/61 [==============================] - 15s 245ms/step - loss: 6.1667e-07 - categorical_accuracy: 1.0000\n",
            "Epoch 27/30\n",
            "61/61 [==============================] - 15s 245ms/step - loss: 5.9561e-07 - categorical_accuracy: 1.0000\n",
            "Epoch 28/30\n",
            "61/61 [==============================] - 15s 245ms/step - loss: 5.7450e-07 - categorical_accuracy: 1.0000\n",
            "Epoch 29/30\n",
            "61/61 [==============================] - 15s 246ms/step - loss: 5.5277e-07 - categorical_accuracy: 1.0000\n",
            "Epoch 30/30\n",
            "61/61 [==============================] - 15s 245ms/step - loss: 5.3431e-07 - categorical_accuracy: 1.0000\n",
            "========================Fold8==========================\n",
            "Epoch 1/30\n",
            "61/61 [==============================] - 15s 245ms/step - loss: 6.2555e-07 - categorical_accuracy: 1.0000\n",
            "Epoch 2/30\n",
            "61/61 [==============================] - 15s 246ms/step - loss: 5.6969e-07 - categorical_accuracy: 1.0000\n",
            "Epoch 3/30\n",
            "61/61 [==============================] - 15s 246ms/step - loss: 5.3795e-07 - categorical_accuracy: 1.0000\n",
            "Epoch 4/30\n",
            "61/61 [==============================] - 15s 246ms/step - loss: 5.1036e-07 - categorical_accuracy: 1.0000\n",
            "Epoch 5/30\n",
            "61/61 [==============================] - 15s 246ms/step - loss: 4.8820e-07 - categorical_accuracy: 1.0000\n",
            "Epoch 6/30\n",
            "61/61 [==============================] - 15s 244ms/step - loss: 4.6949e-07 - categorical_accuracy: 1.0000\n",
            "Epoch 7/30\n",
            "61/61 [==============================] - 15s 246ms/step - loss: 4.4862e-07 - categorical_accuracy: 1.0000\n",
            "Epoch 8/30\n",
            "61/61 [==============================] - 15s 247ms/step - loss: 4.2918e-07 - categorical_accuracy: 1.0000\n",
            "Epoch 9/30\n",
            "61/61 [==============================] - 15s 246ms/step - loss: 4.1257e-07 - categorical_accuracy: 1.0000\n",
            "Epoch 10/30\n",
            "61/61 [==============================] - 15s 246ms/step - loss: 3.9695e-07 - categorical_accuracy: 1.0000\n",
            "Epoch 11/30\n",
            "61/61 [==============================] - 15s 247ms/step - loss: 3.8226e-07 - categorical_accuracy: 1.0000\n",
            "Epoch 12/30\n",
            "61/61 [==============================] - 15s 246ms/step - loss: 3.6652e-07 - categorical_accuracy: 1.0000\n",
            "Epoch 13/30\n",
            "61/61 [==============================] - 15s 245ms/step - loss: 3.5448e-07 - categorical_accuracy: 1.0000\n",
            "Epoch 14/30\n",
            "61/61 [==============================] - 15s 245ms/step - loss: 3.4158e-07 - categorical_accuracy: 1.0000\n",
            "Epoch 15/30\n",
            "61/61 [==============================] - 15s 245ms/step - loss: 3.2911e-07 - categorical_accuracy: 1.0000\n",
            "Epoch 16/30\n",
            "61/61 [==============================] - 15s 246ms/step - loss: 3.1861e-07 - categorical_accuracy: 1.0000\n",
            "Epoch 17/30\n",
            "61/61 [==============================] - 15s 246ms/step - loss: 3.0651e-07 - categorical_accuracy: 1.0000\n",
            "Epoch 18/30\n",
            "61/61 [==============================] - 15s 244ms/step - loss: 2.9528e-07 - categorical_accuracy: 1.0000\n",
            "Epoch 19/30\n",
            "61/61 [==============================] - 15s 245ms/step - loss: 2.8577e-07 - categorical_accuracy: 1.0000\n",
            "Epoch 20/30\n",
            "61/61 [==============================] - 15s 245ms/step - loss: 2.7280e-07 - categorical_accuracy: 1.0000\n",
            "Epoch 21/30\n",
            "61/61 [==============================] - 15s 245ms/step - loss: 2.6422e-07 - categorical_accuracy: 1.0000\n",
            "Epoch 22/30\n",
            "61/61 [==============================] - 15s 245ms/step - loss: 2.5404e-07 - categorical_accuracy: 1.0000\n",
            "Epoch 23/30\n",
            "61/61 [==============================] - 15s 246ms/step - loss: 2.4583e-07 - categorical_accuracy: 1.0000\n",
            "Epoch 24/30\n",
            "61/61 [==============================] - 15s 247ms/step - loss: 2.3589e-07 - categorical_accuracy: 1.0000\n",
            "Epoch 25/30\n",
            "61/61 [==============================] - 15s 245ms/step - loss: 2.2996e-07 - categorical_accuracy: 1.0000\n",
            "Epoch 26/30\n",
            "61/61 [==============================] - 15s 244ms/step - loss: 2.2187e-07 - categorical_accuracy: 1.0000\n",
            "Epoch 27/30\n",
            "61/61 [==============================] - 15s 245ms/step - loss: 2.1471e-07 - categorical_accuracy: 1.0000\n",
            "Epoch 28/30\n",
            "61/61 [==============================] - 15s 244ms/step - loss: 2.0706e-07 - categorical_accuracy: 1.0000\n",
            "Epoch 29/30\n",
            "61/61 [==============================] - 15s 244ms/step - loss: 1.9811e-07 - categorical_accuracy: 1.0000\n",
            "Epoch 30/30\n",
            "61/61 [==============================] - 15s 244ms/step - loss: 1.9144e-07 - categorical_accuracy: 1.0000\n",
            "========================Fold9==========================\n",
            "Epoch 1/30\n",
            "61/61 [==============================] - 15s 246ms/step - loss: 2.1903e-07 - categorical_accuracy: 1.0000\n",
            "Epoch 2/30\n",
            "61/61 [==============================] - 15s 244ms/step - loss: 2.0465e-07 - categorical_accuracy: 1.0000\n",
            "Epoch 3/30\n",
            "61/61 [==============================] - 15s 245ms/step - loss: 1.9366e-07 - categorical_accuracy: 1.0000\n",
            "Epoch 4/30\n",
            "61/61 [==============================] - 15s 244ms/step - loss: 1.8588e-07 - categorical_accuracy: 1.0000\n",
            "Epoch 5/30\n",
            "61/61 [==============================] - 15s 245ms/step - loss: 1.7749e-07 - categorical_accuracy: 1.0000\n",
            "Epoch 6/30\n",
            "61/61 [==============================] - 15s 244ms/step - loss: 1.6847e-07 - categorical_accuracy: 1.0000\n",
            "Epoch 7/30\n",
            "61/61 [==============================] - 15s 244ms/step - loss: 1.6069e-07 - categorical_accuracy: 1.0000\n",
            "Epoch 8/30\n",
            "61/61 [==============================] - 15s 244ms/step - loss: 1.5347e-07 - categorical_accuracy: 1.0000\n",
            "Epoch 9/30\n",
            "61/61 [==============================] - 15s 244ms/step - loss: 1.4755e-07 - categorical_accuracy: 1.0000\n",
            "Epoch 10/30\n",
            "61/61 [==============================] - 15s 245ms/step - loss: 1.4063e-07 - categorical_accuracy: 1.0000\n",
            "Epoch 11/30\n",
            "61/61 [==============================] - 15s 244ms/step - loss: 1.3470e-07 - categorical_accuracy: 1.0000\n",
            "Epoch 12/30\n",
            "61/61 [==============================] - 15s 243ms/step - loss: 1.2989e-07 - categorical_accuracy: 1.0000\n",
            "Epoch 13/30\n",
            "61/61 [==============================] - 15s 244ms/step - loss: 1.2594e-07 - categorical_accuracy: 1.0000\n",
            "Epoch 14/30\n",
            "61/61 [==============================] - 15s 244ms/step - loss: 1.2026e-07 - categorical_accuracy: 1.0000\n",
            "Epoch 15/30\n",
            "61/61 [==============================] - 15s 244ms/step - loss: 1.1600e-07 - categorical_accuracy: 1.0000\n",
            "Epoch 16/30\n",
            "61/61 [==============================] - 15s 244ms/step - loss: 1.0989e-07 - categorical_accuracy: 1.0000\n",
            "Epoch 17/30\n",
            "61/61 [==============================] - 15s 244ms/step - loss: 1.0489e-07 - categorical_accuracy: 1.0000\n",
            "Epoch 18/30\n",
            "61/61 [==============================] - 15s 246ms/step - loss: 1.0155e-07 - categorical_accuracy: 1.0000\n",
            "Epoch 19/30\n",
            "61/61 [==============================] - 15s 244ms/step - loss: 9.7417e-08 - categorical_accuracy: 1.0000\n",
            "Epoch 20/30\n",
            "61/61 [==============================] - 15s 244ms/step - loss: 9.5133e-08 - categorical_accuracy: 1.0000\n",
            "Epoch 21/30\n",
            "61/61 [==============================] - 15s 244ms/step - loss: 9.0935e-08 - categorical_accuracy: 1.0000\n",
            "Epoch 22/30\n",
            "61/61 [==============================] - 15s 244ms/step - loss: 8.7293e-08 - categorical_accuracy: 1.0000\n",
            "Epoch 23/30\n",
            "61/61 [==============================] - 15s 244ms/step - loss: 8.3897e-08 - categorical_accuracy: 1.0000\n",
            "Epoch 24/30\n",
            "61/61 [==============================] - 15s 244ms/step - loss: 8.0625e-08 - categorical_accuracy: 1.0000\n",
            "Epoch 25/30\n",
            "61/61 [==============================] - 15s 245ms/step - loss: 7.6427e-08 - categorical_accuracy: 1.0000\n",
            "Epoch 26/30\n",
            "61/61 [==============================] - 15s 244ms/step - loss: 7.5254e-08 - categorical_accuracy: 1.0000\n",
            "Epoch 27/30\n",
            "61/61 [==============================] - 15s 245ms/step - loss: 7.2847e-08 - categorical_accuracy: 1.0000\n",
            "Epoch 28/30\n",
            "61/61 [==============================] - 15s 244ms/step - loss: 7.0254e-08 - categorical_accuracy: 1.0000\n",
            "Epoch 29/30\n",
            "61/61 [==============================] - 15s 245ms/step - loss: 6.6179e-08 - categorical_accuracy: 1.0000\n",
            "Epoch 30/30\n",
            "61/61 [==============================] - 15s 245ms/step - loss: 6.4389e-08 - categorical_accuracy: 1.0000\n",
            "========================Fold10==========================\n",
            "Epoch 1/30\n",
            "61/61 [==============================] - 15s 245ms/step - loss: 8.1860e-08 - categorical_accuracy: 1.0000\n",
            "Epoch 2/30\n",
            "61/61 [==============================] - 15s 245ms/step - loss: 7.3588e-08 - categorical_accuracy: 1.0000\n",
            "Epoch 3/30\n",
            "61/61 [==============================] - 15s 245ms/step - loss: 6.9945e-08 - categorical_accuracy: 1.0000\n",
            "Epoch 4/30\n",
            "61/61 [==============================] - 15s 246ms/step - loss: 6.6920e-08 - categorical_accuracy: 1.0000\n",
            "Epoch 5/30\n",
            "61/61 [==============================] - 15s 244ms/step - loss: 6.3648e-08 - categorical_accuracy: 1.0000\n",
            "Epoch 6/30\n",
            "61/61 [==============================] - 15s 245ms/step - loss: 6.0315e-08 - categorical_accuracy: 1.0000\n",
            "Epoch 7/30\n",
            "61/61 [==============================] - 15s 245ms/step - loss: 5.7845e-08 - categorical_accuracy: 1.0000\n",
            "Epoch 8/30\n",
            "61/61 [==============================] - 15s 245ms/step - loss: 5.4573e-08 - categorical_accuracy: 1.0000\n",
            "Epoch 9/30\n",
            "61/61 [==============================] - 15s 244ms/step - loss: 5.3339e-08 - categorical_accuracy: 1.0000\n",
            "Epoch 10/30\n",
            "61/61 [==============================] - 15s 245ms/step - loss: 4.9820e-08 - categorical_accuracy: 1.0000\n",
            "Epoch 11/30\n",
            "61/61 [==============================] - 15s 245ms/step - loss: 4.9758e-08 - categorical_accuracy: 1.0000\n",
            "Epoch 12/30\n",
            "61/61 [==============================] - 15s 246ms/step - loss: 4.6856e-08 - categorical_accuracy: 1.0000\n",
            "Epoch 13/30\n",
            "61/61 [==============================] - 15s 245ms/step - loss: 4.6054e-08 - categorical_accuracy: 1.0000\n",
            "Epoch 14/30\n",
            "61/61 [==============================] - 15s 245ms/step - loss: 4.3338e-08 - categorical_accuracy: 1.0000\n",
            "Epoch 15/30\n",
            "61/61 [==============================] - 15s 245ms/step - loss: 4.2782e-08 - categorical_accuracy: 1.0000\n",
            "Epoch 16/30\n",
            "61/61 [==============================] - 15s 246ms/step - loss: 3.9819e-08 - categorical_accuracy: 1.0000\n",
            "Epoch 17/30\n",
            "61/61 [==============================] - 15s 245ms/step - loss: 4.0621e-08 - categorical_accuracy: 1.0000\n",
            "Epoch 18/30\n",
            "61/61 [==============================] - 15s 244ms/step - loss: 3.9634e-08 - categorical_accuracy: 1.0000\n",
            "Epoch 19/30\n",
            "61/61 [==============================] - 15s 245ms/step - loss: 3.7288e-08 - categorical_accuracy: 1.0000\n",
            "Epoch 20/30\n",
            "61/61 [==============================] - 15s 246ms/step - loss: 3.7658e-08 - categorical_accuracy: 1.0000\n",
            "Epoch 21/30\n",
            "61/61 [==============================] - 15s 244ms/step - loss: 3.6547e-08 - categorical_accuracy: 1.0000\n",
            "Epoch 22/30\n",
            "61/61 [==============================] - 15s 244ms/step - loss: 3.5312e-08 - categorical_accuracy: 1.0000\n",
            "Epoch 23/30\n",
            "61/61 [==============================] - 15s 245ms/step - loss: 3.4695e-08 - categorical_accuracy: 1.0000\n",
            "Epoch 24/30\n",
            "61/61 [==============================] - 15s 245ms/step - loss: 3.5003e-08 - categorical_accuracy: 1.0000\n",
            "Epoch 25/30\n",
            "61/61 [==============================] - 15s 245ms/step - loss: 3.4077e-08 - categorical_accuracy: 1.0000\n",
            "Epoch 26/30\n",
            "61/61 [==============================] - 15s 245ms/step - loss: 3.3707e-08 - categorical_accuracy: 1.0000\n",
            "Epoch 27/30\n",
            "61/61 [==============================] - 15s 245ms/step - loss: 3.4016e-08 - categorical_accuracy: 1.0000\n",
            "Epoch 28/30\n",
            "61/61 [==============================] - 15s 245ms/step - loss: 3.3028e-08 - categorical_accuracy: 1.0000\n",
            "Epoch 29/30\n",
            "61/61 [==============================] - 15s 244ms/step - loss: 3.4757e-08 - categorical_accuracy: 1.0000\n",
            "Epoch 30/30\n",
            "61/61 [==============================] - 15s 245ms/step - loss: 3.2534e-08 - categorical_accuracy: 1.0000\n"
          ]
        }
      ],
      "source": [
        "predicts=model_train(resnet,x_train,y_train,test_set)"
      ]
    },
    {
      "cell_type": "code",
      "execution_count": null,
      "metadata": {
        "id": "UEwlXOxjuNgL",
        "colab": {
          "base_uri": "https://localhost:8080/"
        },
        "outputId": "e981345a-9d88-4ee8-8eec-6a550a3f4442"
      },
      "outputs": [
        {
          "output_type": "execute_result",
          "data": {
            "text/plain": [
              "(490, 100)"
            ]
          },
          "metadata": {},
          "execution_count": 53
        }
      ],
      "source": [
        "predicts.shape"
      ]
    },
    {
      "cell_type": "code",
      "execution_count": null,
      "metadata": {
        "colab": {
          "base_uri": "https://localhost:8080/"
        },
        "id": "ZO3ApFtqfZgJ",
        "outputId": "a0ead3f3-925d-4be0-fc1d-54404ee0f7fd"
      },
      "outputs": [
        {
          "output_type": "stream",
          "name": "stderr",
          "text": [
            "100%|██████████| 490/490 [00:20<00:00, 23.92it/s]\n"
          ]
        }
      ],
      "source": [
        "tqdm.tqdm._instances.clear()\n",
        "test_image_files = [os.path.join(IMAGE_DIR, f) for f in os.listdir(IMAGE_DIR) \n",
        "                    if f.split('.')[0] in test.image_id.values]\n",
        "test_image_ids = [os.path.basename(f).split('.')[0] for f in test_image_files]\n",
        "loaded_test_images = [crop_and_resize(Image.open(f)) for f in tqdm.tqdm(test_image_files)]"
      ]
    },
    {
      "cell_type": "code",
      "execution_count": null,
      "metadata": {
        "id": "aBBnfSwTe325"
      },
      "outputs": [],
      "source": [
        "test=[]\n",
        "for x in loaded_test_images:\n",
        "  test.append(np.array(x))\n"
      ]
    },
    {
      "cell_type": "code",
      "execution_count": null,
      "metadata": {
        "id": "zw_sVEhye36n"
      },
      "outputs": [],
      "source": [
        "test_set=np.array(test)"
      ]
    },
    {
      "cell_type": "code",
      "execution_count": null,
      "metadata": {
        "id": "n59woKArSgKB"
      },
      "outputs": [],
      "source": [
        "prediction_resnet=resnet.predict(test_set)\n",
        "prediction_vg16=vg16.predict(test_set)"
      ]
    },
    {
      "cell_type": "code",
      "source": [
        "prediction=prediction_resnet + prediction_vg16"
      ],
      "metadata": {
        "id": "oKZY0pykrhx9"
      },
      "execution_count": null,
      "outputs": []
    },
    {
      "cell_type": "code",
      "source": [
        "prediction.shape"
      ],
      "metadata": {
        "colab": {
          "base_uri": "https://localhost:8080/"
        },
        "id": "w5s5RQb1rplQ",
        "outputId": "62ddc0d8-ab34-453f-8c80-4d102efb7b98"
      },
      "execution_count": null,
      "outputs": [
        {
          "output_type": "execute_result",
          "data": {
            "text/plain": [
              "(490, 100)"
            ]
          },
          "metadata": {},
          "execution_count": 29
        }
      ]
    },
    {
      "cell_type": "code",
      "execution_count": null,
      "metadata": {
        "colab": {
          "base_uri": "https://localhost:8080/"
        },
        "id": "izg5Mr9vdDGq",
        "outputId": "07dac5b4-e433-4812-d032-ce2786d3e26b"
      },
      "outputs": [
        {
          "data": {
            "text/plain": [
              "(100,)"
            ]
          },
          "execution_count": 60,
          "metadata": {},
          "output_type": "execute_result"
        }
      ],
      "source": [
        "prediction_vg16=vg16.predict(test_set)\n",
        "prediction_inception=inception.predict(test_set)\n",
        "prediction_xception=xception.predict(test_set)\n",
        "prediction_resnet101v2=resnet101v2.predict(test_set)\n",
        "prediction_resnet152v2=resnet152v2.predict(test_set)\n",
        "prediction_nasnet=nasnet.predict(test_set)"
      ]
    },
    {
      "cell_type": "code",
      "source": [
        "prediction=predicts"
      ],
      "metadata": {
        "id": "NQl6ZYPsJ_Qr"
      },
      "execution_count": null,
      "outputs": []
    },
    {
      "cell_type": "code",
      "execution_count": null,
      "metadata": {
        "id": "eFyDz_zBdZnK"
      },
      "outputs": [],
      "source": [
        "classes=[]\n",
        "for i in range(490):\n",
        "  class_prob=prediction[i]\n",
        "  top_values_index = sorted(range(len(class_prob)), key=lambda i: class_prob[i])[-5:]\n",
        "  top_values_index.reverse()\n",
        "  classes.append(top_values_index)\n"
      ]
    },
    {
      "cell_type": "code",
      "execution_count": null,
      "metadata": {
        "id": "-m0UIZkHeZQC"
      },
      "outputs": [],
      "source": [
        "classes"
      ]
    },
    {
      "cell_type": "code",
      "execution_count": null,
      "metadata": {
        "id": "IIangxW_hZDh"
      },
      "outputs": [],
      "source": [
        "target_encode"
      ]
    },
    {
      "cell_type": "code",
      "execution_count": null,
      "metadata": {
        "id": "3cAK-NtrhZGv"
      },
      "outputs": [],
      "source": [
        "transform_full=[]\n",
        "for x in classes:\n",
        "  pred=target_encode.inverse_transform(x)\n",
        "  transform_full.append(pred)\n",
        "  "
      ]
    },
    {
      "cell_type": "code",
      "source": [
        "t_id_C0wevyOl', 't_id_EEbWq5Pj', 't_id_G5eoqwD8', 't_id_8b8sprYe"
      ],
      "metadata": {
        "id": "MPI6xOwdKQQL"
      },
      "execution_count": null,
      "outputs": []
    },
    {
      "cell_type": "code",
      "source": [
        "transform_full"
      ],
      "metadata": {
        "id": "YosIKpm2r1KK"
      },
      "execution_count": null,
      "outputs": []
    },
    {
      "cell_type": "code",
      "execution_count": null,
      "metadata": {
        "id": "R61-BIBrjgcn"
      },
      "outputs": [],
      "source": [
        "transform_full"
      ]
    },
    {
      "cell_type": "code",
      "execution_count": null,
      "metadata": {
        "id": "tofwmX-yhZIr"
      },
      "outputs": [],
      "source": [
        "transform_full"
      ]
    },
    {
      "cell_type": "code",
      "execution_count": null,
      "metadata": {
        "colab": {
          "base_uri": "https://localhost:8080/",
          "height": 206
        },
        "id": "L1wXESOThZK9",
        "outputId": "4dcc7966-1c4b-4c07-ad8b-a363bf497093"
      },
      "outputs": [
        {
          "output_type": "execute_result",
          "data": {
            "text/html": [
              "<div>\n",
              "<style scoped>\n",
              "    .dataframe tbody tr th:only-of-type {\n",
              "        vertical-align: middle;\n",
              "    }\n",
              "\n",
              "    .dataframe tbody tr th {\n",
              "        vertical-align: top;\n",
              "    }\n",
              "\n",
              "    .dataframe thead th {\n",
              "        text-align: right;\n",
              "    }\n",
              "</style>\n",
              "<table border=\"1\" class=\"dataframe\">\n",
              "  <thead>\n",
              "    <tr style=\"text-align: right;\">\n",
              "      <th></th>\n",
              "      <th>image_id</th>\n",
              "      <th>prediction1</th>\n",
              "      <th>prediction2</th>\n",
              "      <th>prediction3</th>\n",
              "      <th>prediction4</th>\n",
              "      <th>prediction5</th>\n",
              "    </tr>\n",
              "  </thead>\n",
              "  <tbody>\n",
              "    <tr>\n",
              "      <th>0</th>\n",
              "      <td>ID_6NEDKOYZ</td>\n",
              "      <td>new_turtle</td>\n",
              "      <td>t_id_d6aYXtor</td>\n",
              "      <td>t_id_qZ0iZYsC</td>\n",
              "      <td>new_turtle</td>\n",
              "      <td>t_id_d6aYXtor</td>\n",
              "    </tr>\n",
              "    <tr>\n",
              "      <th>1</th>\n",
              "      <td>ID_57QZ4S9N</td>\n",
              "      <td>new_turtle</td>\n",
              "      <td>t_id_d6aYXtor</td>\n",
              "      <td>t_id_qZ0iZYsC</td>\n",
              "      <td>new_turtle</td>\n",
              "      <td>t_id_d6aYXtor</td>\n",
              "    </tr>\n",
              "    <tr>\n",
              "      <th>2</th>\n",
              "      <td>ID_OCGGJS5X</td>\n",
              "      <td>new_turtle</td>\n",
              "      <td>t_id_d6aYXtor</td>\n",
              "      <td>t_id_qZ0iZYsC</td>\n",
              "      <td>new_turtle</td>\n",
              "      <td>t_id_d6aYXtor</td>\n",
              "    </tr>\n",
              "    <tr>\n",
              "      <th>3</th>\n",
              "      <td>ID_R2993S3S</td>\n",
              "      <td>new_turtle</td>\n",
              "      <td>t_id_d6aYXtor</td>\n",
              "      <td>t_id_qZ0iZYsC</td>\n",
              "      <td>new_turtle</td>\n",
              "      <td>t_id_d6aYXtor</td>\n",
              "    </tr>\n",
              "    <tr>\n",
              "      <th>4</th>\n",
              "      <td>ID_2E011NB0</td>\n",
              "      <td>new_turtle</td>\n",
              "      <td>t_id_d6aYXtor</td>\n",
              "      <td>t_id_qZ0iZYsC</td>\n",
              "      <td>new_turtle</td>\n",
              "      <td>t_id_d6aYXtor</td>\n",
              "    </tr>\n",
              "  </tbody>\n",
              "</table>\n",
              "</div>"
            ],
            "text/plain": [
              "      image_id prediction1  ... prediction4    prediction5\n",
              "0  ID_6NEDKOYZ  new_turtle  ...  new_turtle  t_id_d6aYXtor\n",
              "1  ID_57QZ4S9N  new_turtle  ...  new_turtle  t_id_d6aYXtor\n",
              "2  ID_OCGGJS5X  new_turtle  ...  new_turtle  t_id_d6aYXtor\n",
              "3  ID_R2993S3S  new_turtle  ...  new_turtle  t_id_d6aYXtor\n",
              "4  ID_2E011NB0  new_turtle  ...  new_turtle  t_id_d6aYXtor\n",
              "\n",
              "[5 rows x 6 columns]"
            ]
          },
          "metadata": {},
          "execution_count": 33
        }
      ],
      "source": [
        "sample_submission.head()"
      ]
    },
    {
      "cell_type": "code",
      "execution_count": null,
      "metadata": {
        "id": "K-J91-VnhZNv"
      },
      "outputs": [],
      "source": [
        "test_image_ids"
      ]
    },
    {
      "cell_type": "code",
      "execution_count": null,
      "metadata": {
        "id": "8Rb_VUmlhZPy"
      },
      "outputs": [],
      "source": [
        "transform_full_data_frame=pd.DataFrame(transform_full,columns=['prediction1','prediction2','prediction3','prediction4','prediction5'])"
      ]
    },
    {
      "cell_type": "code",
      "execution_count": null,
      "metadata": {
        "id": "tnZuSm98k6pq"
      },
      "outputs": [],
      "source": [
        "transform_full_data_frame[\"image_id\"]=test_image_ids"
      ]
    },
    {
      "cell_type": "code",
      "execution_count": null,
      "metadata": {
        "colab": {
          "base_uri": "https://localhost:8080/",
          "height": 206
        },
        "id": "7Zo7eerklm4M",
        "outputId": "4aa5c068-3d13-45c9-e8c6-435678a5c860"
      },
      "outputs": [
        {
          "output_type": "execute_result",
          "data": {
            "text/html": [
              "<div>\n",
              "<style scoped>\n",
              "    .dataframe tbody tr th:only-of-type {\n",
              "        vertical-align: middle;\n",
              "    }\n",
              "\n",
              "    .dataframe tbody tr th {\n",
              "        vertical-align: top;\n",
              "    }\n",
              "\n",
              "    .dataframe thead th {\n",
              "        text-align: right;\n",
              "    }\n",
              "</style>\n",
              "<table border=\"1\" class=\"dataframe\">\n",
              "  <thead>\n",
              "    <tr style=\"text-align: right;\">\n",
              "      <th></th>\n",
              "      <th>prediction1</th>\n",
              "      <th>prediction2</th>\n",
              "      <th>prediction3</th>\n",
              "      <th>prediction4</th>\n",
              "      <th>prediction5</th>\n",
              "      <th>image_id</th>\n",
              "    </tr>\n",
              "  </thead>\n",
              "  <tbody>\n",
              "    <tr>\n",
              "      <th>0</th>\n",
              "      <td>t_id_EEbWq5Pj</td>\n",
              "      <td>t_id_X3bKBWYW</td>\n",
              "      <td>t_id_2QmcRkNj</td>\n",
              "      <td>t_id_8b8sprYe</td>\n",
              "      <td>t_id_G5eoqwD8</td>\n",
              "      <td>ID_JUQM4S99</td>\n",
              "    </tr>\n",
              "    <tr>\n",
              "      <th>1</th>\n",
              "      <td>t_id_8b8sprYe</td>\n",
              "      <td>t_id_n2FBHk6d</td>\n",
              "      <td>t_id_9GFmcOd5</td>\n",
              "      <td>t_id_SwQZGIpa</td>\n",
              "      <td>t_id_D0gA44av</td>\n",
              "      <td>ID_DFT8JWF0</td>\n",
              "    </tr>\n",
              "    <tr>\n",
              "      <th>2</th>\n",
              "      <td>t_id_VP2NW7aV</td>\n",
              "      <td>t_id_2E8o5Jtl</td>\n",
              "      <td>t_id_ROFhVsy2</td>\n",
              "      <td>t_id_HxxqrdTx</td>\n",
              "      <td>t_id_AOWArhGb</td>\n",
              "      <td>ID_3QP1M0SV</td>\n",
              "    </tr>\n",
              "    <tr>\n",
              "      <th>3</th>\n",
              "      <td>t_id_Ts5LyVQz</td>\n",
              "      <td>t_id_AOWArhGb</td>\n",
              "      <td>t_id_SwQZGIpa</td>\n",
              "      <td>t_id_C0wevyOl</td>\n",
              "      <td>t_id_fxTQ5vHC</td>\n",
              "      <td>ID_G5S2G6IF</td>\n",
              "    </tr>\n",
              "    <tr>\n",
              "      <th>4</th>\n",
              "      <td>t_id_4ZfTUmwL</td>\n",
              "      <td>t_id_Ts5LyVQz</td>\n",
              "      <td>t_id_D0gA44av</td>\n",
              "      <td>t_id_B7LaSiac</td>\n",
              "      <td>t_id_d6aYXtor</td>\n",
              "      <td>ID_91E1O0FJ</td>\n",
              "    </tr>\n",
              "  </tbody>\n",
              "</table>\n",
              "</div>"
            ],
            "text/plain": [
              "     prediction1    prediction2  ...    prediction5     image_id\n",
              "0  t_id_EEbWq5Pj  t_id_X3bKBWYW  ...  t_id_G5eoqwD8  ID_JUQM4S99\n",
              "1  t_id_8b8sprYe  t_id_n2FBHk6d  ...  t_id_D0gA44av  ID_DFT8JWF0\n",
              "2  t_id_VP2NW7aV  t_id_2E8o5Jtl  ...  t_id_AOWArhGb  ID_3QP1M0SV\n",
              "3  t_id_Ts5LyVQz  t_id_AOWArhGb  ...  t_id_fxTQ5vHC  ID_G5S2G6IF\n",
              "4  t_id_4ZfTUmwL  t_id_Ts5LyVQz  ...  t_id_d6aYXtor  ID_91E1O0FJ\n",
              "\n",
              "[5 rows x 6 columns]"
            ]
          },
          "metadata": {},
          "execution_count": 61
        }
      ],
      "source": [
        "transform_full_data_frame.head()"
      ]
    },
    {
      "cell_type": "code",
      "execution_count": null,
      "metadata": {
        "id": "4HVfmAwIk6si"
      },
      "outputs": [],
      "source": [
        "transform_full_data_frame=transform_full_data_frame[[\"image_id\",\"prediction1\",\"prediction2\",\"prediction3\",\"prediction4\",\"prediction5\"]]"
      ]
    },
    {
      "cell_type": "code",
      "execution_count": null,
      "metadata": {
        "id": "qVyOOqU-l-TE"
      },
      "outputs": [],
      "source": [
        "transform_full_data_frame.to_csv(\"firstsub2.csv\",index=False)"
      ]
    },
    {
      "cell_type": "code",
      "execution_count": null,
      "metadata": {
        "id": "4rqPv6fcYN9-"
      },
      "outputs": [],
      "source": [
        "class_prob = [0.98,0.50,0.60,0.90,0.87,0.79,0.87]\n",
        "top_values_index = sorted(range(len(class_prob)), key=lambda i: class_prob[i])[-5:]"
      ]
    },
    {
      "cell_type": "code",
      "execution_count": null,
      "metadata": {
        "id": "WWSzj7YWYOBD"
      },
      "outputs": [],
      "source": [
        "top_values_index.reverse()"
      ]
    },
    {
      "cell_type": "code",
      "execution_count": null,
      "metadata": {
        "colab": {
          "base_uri": "https://localhost:8080/"
        },
        "id": "C0te1Rs-YOEO",
        "outputId": "7f0dc016-6173-40c8-fe84-0767109499bf"
      },
      "outputs": [
        {
          "data": {
            "text/plain": [
              "[0, 3, 6, 4, 5]"
            ]
          },
          "execution_count": 56,
          "metadata": {},
          "output_type": "execute_result"
        }
      ],
      "source": [
        "top_values_index"
      ]
    },
    {
      "cell_type": "code",
      "execution_count": null,
      "metadata": {
        "id": "ZBkqGGBOThjK"
      },
      "outputs": [],
      "source": []
    },
    {
      "cell_type": "code",
      "execution_count": null,
      "metadata": {
        "id": "sRIqH1KMbQys"
      },
      "outputs": [],
      "source": []
    },
    {
      "cell_type": "code",
      "execution_count": null,
      "metadata": {
        "id": "Ds3pNpWhb74g"
      },
      "outputs": [],
      "source": []
    }
  ],
  "metadata": {
    "accelerator": "GPU",
    "colab": {
      "provenance": [],
      "authorship_tag": "ABX9TyMJp5G+wSfc8KVMQ10Fy1EN",
      "include_colab_link": true
    },
    "kernelspec": {
      "display_name": "Python 3",
      "name": "python3"
    },
    "language_info": {
      "name": "python"
    }
  },
  "nbformat": 4,
  "nbformat_minor": 0
}